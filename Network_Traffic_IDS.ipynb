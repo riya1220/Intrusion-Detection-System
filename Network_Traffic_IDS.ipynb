{
  "nbformat": 4,
  "nbformat_minor": 0,
  "metadata": {
    "colab": {
      "provenance": []
    },
    "kernelspec": {
      "name": "python3",
      "display_name": "Python 3"
    },
    "language_info": {
      "name": "python"
    }
  },
  "cells": [
    {
      "cell_type": "markdown",
      "source": [
        "# **Importing** **Libraries**"
      ],
      "metadata": {
        "id": "E68GP9fimy5i"
      }
    },
    {
      "cell_type": "code",
      "source": [
        "import pandas as pd\n",
        "import numpy as np\n",
        "import seaborn as sns\n",
        "import time\n",
        "import matplotlib.pyplot as plt\n",
        "from sklearn.ensemble import RandomForestClassifier\n",
        "from sklearn.linear_model import LogisticRegression\n",
        "from sklearn.preprocessing import LabelEncoder\n",
        "from sklearn.cluster import KMeans\n",
        "from sklearn.metrics import accuracy_score, confusion_matrix, ConfusionMatrixDisplay, RocCurveDisplay, auc\n",
        "from sklearn.metrics import precision_score, recall_score, f1_score, roc_curve\n",
        "from sklearn.metrics import precision_recall_curve, PrecisionRecallDisplay, roc_auc_score\n",
        "from sklearn.model_selection import train_test_split\n",
        "from sklearn.preprocessing import StandardScaler\n",
        "from sklearn.feature_selection import RFE\n",
        "from sklearn.tree import DecisionTreeClassifier\n",
        "from sklearn.naive_bayes import GaussianNB\n"
      ],
      "metadata": {
        "id": "qtSmDs6sEpsS"
      },
      "execution_count": 2,
      "outputs": []
    },
    {
      "cell_type": "markdown",
      "source": [
        "# **Syncing to Google Drive**"
      ],
      "metadata": {
        "id": "mSM9ZG-qrd38"
      }
    },
    {
      "cell_type": "code",
      "source": [
        "from google.colab import drive\n",
        "drive.mount('/content/drive')\n"
      ],
      "metadata": {
        "colab": {
          "base_uri": "https://localhost:8080/"
        },
        "id": "Uktsnc7JFe-j",
        "outputId": "cb829d40-bade-444f-a2c3-337a8b768148"
      },
      "execution_count": 4,
      "outputs": [
        {
          "output_type": "stream",
          "name": "stdout",
          "text": [
            "Mounted at /content/drive\n"
          ]
        }
      ]
    },
    {
      "cell_type": "markdown",
      "source": [
        "# **Extracting Zip files**"
      ],
      "metadata": {
        "id": "L2HepmCirzcT"
      }
    },
    {
      "cell_type": "code",
      "source": [],
      "metadata": {
        "id": "u1CPPlAYsCD2"
      },
      "execution_count": null,
      "outputs": []
    },
    {
      "cell_type": "code",
      "source": [
        "import zipfile\n",
        "import os\n",
        "\n",
        "zip_train_path = '/content/drive/MyDrive/UNSW_NB15/UNSW_NB15_training-set.csv.zip'\n",
        "zip_test_path = '/content/drive/MyDrive/UNSW_NB15/UNSW_NB15_testing-set.csv.zip'\n",
        "extract_folder = '/content/drive/MyDrive/UNSW_NB15/'\n",
        "\n",
        "with zipfile.ZipFile(zip_train_path, 'r') as zip_ref:\n",
        "    zip_ref.extractall(extract_folder)\n",
        "\n",
        "with zipfile.ZipFile(zip_test_path, 'r') as zip_ref:\n",
        "    zip_ref.extractall(extract_folder)\n",
        "\n",
        "print(\"Extraction complete!\")\n"
      ],
      "metadata": {
        "colab": {
          "base_uri": "https://localhost:8080/"
        },
        "id": "9zBLG-DjFnvj",
        "outputId": "029cd4dc-2190-4e4b-b25e-47058cbaa310"
      },
      "execution_count": 5,
      "outputs": [
        {
          "output_type": "stream",
          "name": "stdout",
          "text": [
            "Extraction complete!\n"
          ]
        }
      ]
    },
    {
      "cell_type": "markdown",
      "source": [
        "# **Loading Dataset to pandas Framework**"
      ],
      "metadata": {
        "id": "5WT4Qw9tsv3l"
      }
    },
    {
      "cell_type": "code",
      "source": [
        "import pandas as pd\n",
        "\n",
        "df_train = pd.read_csv('/content/drive/MyDrive/UNSW_NB15/UNSW_NB15_training-set.csv')\n",
        "df_test = pd.read_csv('/content/drive/MyDrive/UNSW_NB15/UNSW_NB15_testing-set.csv')\n",
        "\n",
        "print(\"Length of training set: \", len(df_train))\n",
        "print(\"Length of testing set: \", len(df_test))\n"
      ],
      "metadata": {
        "colab": {
          "base_uri": "https://localhost:8080/"
        },
        "id": "lq-SHXhfFxKO",
        "outputId": "2597fa0f-1df4-4214-ffd5-8358cc5db72f"
      },
      "execution_count": 7,
      "outputs": [
        {
          "output_type": "stream",
          "name": "stdout",
          "text": [
            "Length of training set:  82332\n",
            "Length of testing set:  175341\n"
          ]
        }
      ]
    },
    {
      "cell_type": "markdown",
      "source": [
        "# **Combining train test Dataset**"
      ],
      "metadata": {
        "id": "xta7RmcJtSD7"
      }
    },
    {
      "cell_type": "code",
      "source": [
        "df = pd.concat([df_train, df_test])\n",
        "\n",
        "df.info()"
      ],
      "metadata": {
        "colab": {
          "base_uri": "https://localhost:8080/"
        },
        "id": "CxArhLJ5F27U",
        "outputId": "d3ef09e2-a657-424e-c0ea-2dffe3852fe2"
      },
      "execution_count": 8,
      "outputs": [
        {
          "output_type": "stream",
          "name": "stdout",
          "text": [
            "<class 'pandas.core.frame.DataFrame'>\n",
            "Index: 257673 entries, 0 to 175340\n",
            "Data columns (total 45 columns):\n",
            " #   Column             Non-Null Count   Dtype  \n",
            "---  ------             --------------   -----  \n",
            " 0   id                 257673 non-null  int64  \n",
            " 1   dur                257673 non-null  float64\n",
            " 2   proto              257673 non-null  object \n",
            " 3   service            257673 non-null  object \n",
            " 4   state              257673 non-null  object \n",
            " 5   spkts              257673 non-null  int64  \n",
            " 6   dpkts              257673 non-null  int64  \n",
            " 7   sbytes             257673 non-null  int64  \n",
            " 8   dbytes             257673 non-null  int64  \n",
            " 9   rate               257673 non-null  float64\n",
            " 10  sttl               257673 non-null  int64  \n",
            " 11  dttl               257673 non-null  int64  \n",
            " 12  sload              257673 non-null  float64\n",
            " 13  dload              257673 non-null  float64\n",
            " 14  sloss              257673 non-null  int64  \n",
            " 15  dloss              257673 non-null  int64  \n",
            " 16  sinpkt             257673 non-null  float64\n",
            " 17  dinpkt             257673 non-null  float64\n",
            " 18  sjit               257673 non-null  float64\n",
            " 19  djit               257673 non-null  float64\n",
            " 20  swin               257673 non-null  int64  \n",
            " 21  stcpb              257673 non-null  int64  \n",
            " 22  dtcpb              257673 non-null  int64  \n",
            " 23  dwin               257673 non-null  int64  \n",
            " 24  tcprtt             257673 non-null  float64\n",
            " 25  synack             257673 non-null  float64\n",
            " 26  ackdat             257673 non-null  float64\n",
            " 27  smean              257673 non-null  int64  \n",
            " 28  dmean              257673 non-null  int64  \n",
            " 29  trans_depth        257673 non-null  int64  \n",
            " 30  response_body_len  257673 non-null  int64  \n",
            " 31  ct_srv_src         257673 non-null  int64  \n",
            " 32  ct_state_ttl       257673 non-null  int64  \n",
            " 33  ct_dst_ltm         257673 non-null  int64  \n",
            " 34  ct_src_dport_ltm   257673 non-null  int64  \n",
            " 35  ct_dst_sport_ltm   257673 non-null  int64  \n",
            " 36  ct_dst_src_ltm     257673 non-null  int64  \n",
            " 37  is_ftp_login       257673 non-null  int64  \n",
            " 38  ct_ftp_cmd         257673 non-null  int64  \n",
            " 39  ct_flw_http_mthd   257673 non-null  int64  \n",
            " 40  ct_src_ltm         257673 non-null  int64  \n",
            " 41  ct_srv_dst         257673 non-null  int64  \n",
            " 42  is_sm_ips_ports    257673 non-null  int64  \n",
            " 43  attack_cat         257673 non-null  object \n",
            " 44  label              257673 non-null  int64  \n",
            "dtypes: float64(11), int64(30), object(4)\n",
            "memory usage: 90.4+ MB\n"
          ]
        }
      ]
    },
    {
      "cell_type": "markdown",
      "source": [
        "# **Extracting Summary Statistics**"
      ],
      "metadata": {
        "id": "Ul1hT2z0tyBB"
      }
    },
    {
      "cell_type": "code",
      "source": [
        "df.describe(include=\"all\")"
      ],
      "metadata": {
        "colab": {
          "base_uri": "https://localhost:8080/",
          "height": 443
        },
        "id": "woYUkiZLGGP6",
        "outputId": "a60f6850-c1ff-461c-8ec0-f0bce3c9dfa6"
      },
      "execution_count": 9,
      "outputs": [
        {
          "output_type": "execute_result",
          "data": {
            "text/plain": [
              "                   id            dur   proto service   state          spkts  \\\n",
              "count   257673.000000  257673.000000  257673  257673  257673  257673.000000   \n",
              "unique            NaN            NaN     133      13      11            NaN   \n",
              "top               NaN            NaN     tcp       -     FIN            NaN   \n",
              "freq              NaN            NaN  123041  141321  117164            NaN   \n",
              "mean     72811.823858       1.246715     NaN     NaN     NaN      19.777144   \n",
              "std      48929.917641       5.974305     NaN     NaN     NaN     135.947152   \n",
              "min          1.000000       0.000000     NaN     NaN     NaN       1.000000   \n",
              "25%      32210.000000       0.000008     NaN     NaN     NaN       2.000000   \n",
              "50%      64419.000000       0.004285     NaN     NaN     NaN       4.000000   \n",
              "75%     110923.000000       0.685777     NaN     NaN     NaN      12.000000   \n",
              "max     175341.000000      59.999989     NaN     NaN     NaN   10646.000000   \n",
              "\n",
              "                dpkts        sbytes        dbytes          rate  ...  \\\n",
              "count   257673.000000  2.576730e+05  2.576730e+05  2.576730e+05  ...   \n",
              "unique            NaN           NaN           NaN           NaN  ...   \n",
              "top               NaN           NaN           NaN           NaN  ...   \n",
              "freq              NaN           NaN           NaN           NaN  ...   \n",
              "mean        18.514703  8.572952e+03  1.438729e+04  9.125391e+04  ...   \n",
              "std        111.985965  1.737739e+05  1.461993e+05  1.603446e+05  ...   \n",
              "min          0.000000  2.400000e+01  0.000000e+00  0.000000e+00  ...   \n",
              "25%          0.000000  1.140000e+02  0.000000e+00  3.078928e+01  ...   \n",
              "50%          2.000000  5.280000e+02  1.780000e+02  2.955665e+03  ...   \n",
              "75%         10.000000  1.362000e+03  1.064000e+03  1.250000e+05  ...   \n",
              "max      11018.000000  1.435577e+07  1.465753e+07  1.000000e+06  ...   \n",
              "\n",
              "        ct_dst_sport_ltm  ct_dst_src_ltm   is_ftp_login     ct_ftp_cmd  \\\n",
              "count      257673.000000   257673.000000  257673.000000  257673.000000   \n",
              "unique               NaN             NaN            NaN            NaN   \n",
              "top                  NaN             NaN            NaN            NaN   \n",
              "freq                 NaN             NaN            NaN            NaN   \n",
              "mean            4.032677        8.322964       0.012819       0.012850   \n",
              "std             5.831515       11.120754       0.116091       0.116421   \n",
              "min             1.000000        1.000000       0.000000       0.000000   \n",
              "25%             1.000000        1.000000       0.000000       0.000000   \n",
              "50%             1.000000        3.000000       0.000000       0.000000   \n",
              "75%             3.000000        8.000000       0.000000       0.000000   \n",
              "max            46.000000       65.000000       4.000000       4.000000   \n",
              "\n",
              "        ct_flw_http_mthd     ct_src_ltm     ct_srv_dst  is_sm_ips_ports  \\\n",
              "count      257673.000000  257673.000000  257673.000000    257673.000000   \n",
              "unique               NaN            NaN            NaN              NaN   \n",
              "top                  NaN            NaN            NaN              NaN   \n",
              "freq                 NaN            NaN            NaN              NaN   \n",
              "mean            0.132005       6.800045       9.121049         0.014274   \n",
              "std             0.681854       8.396266      10.874752         0.118618   \n",
              "min             0.000000       1.000000       1.000000         0.000000   \n",
              "25%             0.000000       2.000000       2.000000         0.000000   \n",
              "50%             0.000000       3.000000       4.000000         0.000000   \n",
              "75%             0.000000       8.000000      11.000000         0.000000   \n",
              "max            30.000000      60.000000      62.000000         1.000000   \n",
              "\n",
              "        attack_cat          label  \n",
              "count       257673  257673.000000  \n",
              "unique          10            NaN  \n",
              "top         Normal            NaN  \n",
              "freq         93000            NaN  \n",
              "mean           NaN       0.639077  \n",
              "std            NaN       0.480269  \n",
              "min            NaN       0.000000  \n",
              "25%            NaN       0.000000  \n",
              "50%            NaN       1.000000  \n",
              "75%            NaN       1.000000  \n",
              "max            NaN       1.000000  \n",
              "\n",
              "[11 rows x 45 columns]"
            ],
            "text/html": [
              "\n",
              "  <div id=\"df-f31de98b-4567-4de8-907a-a0a20ae29169\" class=\"colab-df-container\">\n",
              "    <div>\n",
              "<style scoped>\n",
              "    .dataframe tbody tr th:only-of-type {\n",
              "        vertical-align: middle;\n",
              "    }\n",
              "\n",
              "    .dataframe tbody tr th {\n",
              "        vertical-align: top;\n",
              "    }\n",
              "\n",
              "    .dataframe thead th {\n",
              "        text-align: right;\n",
              "    }\n",
              "</style>\n",
              "<table border=\"1\" class=\"dataframe\">\n",
              "  <thead>\n",
              "    <tr style=\"text-align: right;\">\n",
              "      <th></th>\n",
              "      <th>id</th>\n",
              "      <th>dur</th>\n",
              "      <th>proto</th>\n",
              "      <th>service</th>\n",
              "      <th>state</th>\n",
              "      <th>spkts</th>\n",
              "      <th>dpkts</th>\n",
              "      <th>sbytes</th>\n",
              "      <th>dbytes</th>\n",
              "      <th>rate</th>\n",
              "      <th>...</th>\n",
              "      <th>ct_dst_sport_ltm</th>\n",
              "      <th>ct_dst_src_ltm</th>\n",
              "      <th>is_ftp_login</th>\n",
              "      <th>ct_ftp_cmd</th>\n",
              "      <th>ct_flw_http_mthd</th>\n",
              "      <th>ct_src_ltm</th>\n",
              "      <th>ct_srv_dst</th>\n",
              "      <th>is_sm_ips_ports</th>\n",
              "      <th>attack_cat</th>\n",
              "      <th>label</th>\n",
              "    </tr>\n",
              "  </thead>\n",
              "  <tbody>\n",
              "    <tr>\n",
              "      <th>count</th>\n",
              "      <td>257673.000000</td>\n",
              "      <td>257673.000000</td>\n",
              "      <td>257673</td>\n",
              "      <td>257673</td>\n",
              "      <td>257673</td>\n",
              "      <td>257673.000000</td>\n",
              "      <td>257673.000000</td>\n",
              "      <td>2.576730e+05</td>\n",
              "      <td>2.576730e+05</td>\n",
              "      <td>2.576730e+05</td>\n",
              "      <td>...</td>\n",
              "      <td>257673.000000</td>\n",
              "      <td>257673.000000</td>\n",
              "      <td>257673.000000</td>\n",
              "      <td>257673.000000</td>\n",
              "      <td>257673.000000</td>\n",
              "      <td>257673.000000</td>\n",
              "      <td>257673.000000</td>\n",
              "      <td>257673.000000</td>\n",
              "      <td>257673</td>\n",
              "      <td>257673.000000</td>\n",
              "    </tr>\n",
              "    <tr>\n",
              "      <th>unique</th>\n",
              "      <td>NaN</td>\n",
              "      <td>NaN</td>\n",
              "      <td>133</td>\n",
              "      <td>13</td>\n",
              "      <td>11</td>\n",
              "      <td>NaN</td>\n",
              "      <td>NaN</td>\n",
              "      <td>NaN</td>\n",
              "      <td>NaN</td>\n",
              "      <td>NaN</td>\n",
              "      <td>...</td>\n",
              "      <td>NaN</td>\n",
              "      <td>NaN</td>\n",
              "      <td>NaN</td>\n",
              "      <td>NaN</td>\n",
              "      <td>NaN</td>\n",
              "      <td>NaN</td>\n",
              "      <td>NaN</td>\n",
              "      <td>NaN</td>\n",
              "      <td>10</td>\n",
              "      <td>NaN</td>\n",
              "    </tr>\n",
              "    <tr>\n",
              "      <th>top</th>\n",
              "      <td>NaN</td>\n",
              "      <td>NaN</td>\n",
              "      <td>tcp</td>\n",
              "      <td>-</td>\n",
              "      <td>FIN</td>\n",
              "      <td>NaN</td>\n",
              "      <td>NaN</td>\n",
              "      <td>NaN</td>\n",
              "      <td>NaN</td>\n",
              "      <td>NaN</td>\n",
              "      <td>...</td>\n",
              "      <td>NaN</td>\n",
              "      <td>NaN</td>\n",
              "      <td>NaN</td>\n",
              "      <td>NaN</td>\n",
              "      <td>NaN</td>\n",
              "      <td>NaN</td>\n",
              "      <td>NaN</td>\n",
              "      <td>NaN</td>\n",
              "      <td>Normal</td>\n",
              "      <td>NaN</td>\n",
              "    </tr>\n",
              "    <tr>\n",
              "      <th>freq</th>\n",
              "      <td>NaN</td>\n",
              "      <td>NaN</td>\n",
              "      <td>123041</td>\n",
              "      <td>141321</td>\n",
              "      <td>117164</td>\n",
              "      <td>NaN</td>\n",
              "      <td>NaN</td>\n",
              "      <td>NaN</td>\n",
              "      <td>NaN</td>\n",
              "      <td>NaN</td>\n",
              "      <td>...</td>\n",
              "      <td>NaN</td>\n",
              "      <td>NaN</td>\n",
              "      <td>NaN</td>\n",
              "      <td>NaN</td>\n",
              "      <td>NaN</td>\n",
              "      <td>NaN</td>\n",
              "      <td>NaN</td>\n",
              "      <td>NaN</td>\n",
              "      <td>93000</td>\n",
              "      <td>NaN</td>\n",
              "    </tr>\n",
              "    <tr>\n",
              "      <th>mean</th>\n",
              "      <td>72811.823858</td>\n",
              "      <td>1.246715</td>\n",
              "      <td>NaN</td>\n",
              "      <td>NaN</td>\n",
              "      <td>NaN</td>\n",
              "      <td>19.777144</td>\n",
              "      <td>18.514703</td>\n",
              "      <td>8.572952e+03</td>\n",
              "      <td>1.438729e+04</td>\n",
              "      <td>9.125391e+04</td>\n",
              "      <td>...</td>\n",
              "      <td>4.032677</td>\n",
              "      <td>8.322964</td>\n",
              "      <td>0.012819</td>\n",
              "      <td>0.012850</td>\n",
              "      <td>0.132005</td>\n",
              "      <td>6.800045</td>\n",
              "      <td>9.121049</td>\n",
              "      <td>0.014274</td>\n",
              "      <td>NaN</td>\n",
              "      <td>0.639077</td>\n",
              "    </tr>\n",
              "    <tr>\n",
              "      <th>std</th>\n",
              "      <td>48929.917641</td>\n",
              "      <td>5.974305</td>\n",
              "      <td>NaN</td>\n",
              "      <td>NaN</td>\n",
              "      <td>NaN</td>\n",
              "      <td>135.947152</td>\n",
              "      <td>111.985965</td>\n",
              "      <td>1.737739e+05</td>\n",
              "      <td>1.461993e+05</td>\n",
              "      <td>1.603446e+05</td>\n",
              "      <td>...</td>\n",
              "      <td>5.831515</td>\n",
              "      <td>11.120754</td>\n",
              "      <td>0.116091</td>\n",
              "      <td>0.116421</td>\n",
              "      <td>0.681854</td>\n",
              "      <td>8.396266</td>\n",
              "      <td>10.874752</td>\n",
              "      <td>0.118618</td>\n",
              "      <td>NaN</td>\n",
              "      <td>0.480269</td>\n",
              "    </tr>\n",
              "    <tr>\n",
              "      <th>min</th>\n",
              "      <td>1.000000</td>\n",
              "      <td>0.000000</td>\n",
              "      <td>NaN</td>\n",
              "      <td>NaN</td>\n",
              "      <td>NaN</td>\n",
              "      <td>1.000000</td>\n",
              "      <td>0.000000</td>\n",
              "      <td>2.400000e+01</td>\n",
              "      <td>0.000000e+00</td>\n",
              "      <td>0.000000e+00</td>\n",
              "      <td>...</td>\n",
              "      <td>1.000000</td>\n",
              "      <td>1.000000</td>\n",
              "      <td>0.000000</td>\n",
              "      <td>0.000000</td>\n",
              "      <td>0.000000</td>\n",
              "      <td>1.000000</td>\n",
              "      <td>1.000000</td>\n",
              "      <td>0.000000</td>\n",
              "      <td>NaN</td>\n",
              "      <td>0.000000</td>\n",
              "    </tr>\n",
              "    <tr>\n",
              "      <th>25%</th>\n",
              "      <td>32210.000000</td>\n",
              "      <td>0.000008</td>\n",
              "      <td>NaN</td>\n",
              "      <td>NaN</td>\n",
              "      <td>NaN</td>\n",
              "      <td>2.000000</td>\n",
              "      <td>0.000000</td>\n",
              "      <td>1.140000e+02</td>\n",
              "      <td>0.000000e+00</td>\n",
              "      <td>3.078928e+01</td>\n",
              "      <td>...</td>\n",
              "      <td>1.000000</td>\n",
              "      <td>1.000000</td>\n",
              "      <td>0.000000</td>\n",
              "      <td>0.000000</td>\n",
              "      <td>0.000000</td>\n",
              "      <td>2.000000</td>\n",
              "      <td>2.000000</td>\n",
              "      <td>0.000000</td>\n",
              "      <td>NaN</td>\n",
              "      <td>0.000000</td>\n",
              "    </tr>\n",
              "    <tr>\n",
              "      <th>50%</th>\n",
              "      <td>64419.000000</td>\n",
              "      <td>0.004285</td>\n",
              "      <td>NaN</td>\n",
              "      <td>NaN</td>\n",
              "      <td>NaN</td>\n",
              "      <td>4.000000</td>\n",
              "      <td>2.000000</td>\n",
              "      <td>5.280000e+02</td>\n",
              "      <td>1.780000e+02</td>\n",
              "      <td>2.955665e+03</td>\n",
              "      <td>...</td>\n",
              "      <td>1.000000</td>\n",
              "      <td>3.000000</td>\n",
              "      <td>0.000000</td>\n",
              "      <td>0.000000</td>\n",
              "      <td>0.000000</td>\n",
              "      <td>3.000000</td>\n",
              "      <td>4.000000</td>\n",
              "      <td>0.000000</td>\n",
              "      <td>NaN</td>\n",
              "      <td>1.000000</td>\n",
              "    </tr>\n",
              "    <tr>\n",
              "      <th>75%</th>\n",
              "      <td>110923.000000</td>\n",
              "      <td>0.685777</td>\n",
              "      <td>NaN</td>\n",
              "      <td>NaN</td>\n",
              "      <td>NaN</td>\n",
              "      <td>12.000000</td>\n",
              "      <td>10.000000</td>\n",
              "      <td>1.362000e+03</td>\n",
              "      <td>1.064000e+03</td>\n",
              "      <td>1.250000e+05</td>\n",
              "      <td>...</td>\n",
              "      <td>3.000000</td>\n",
              "      <td>8.000000</td>\n",
              "      <td>0.000000</td>\n",
              "      <td>0.000000</td>\n",
              "      <td>0.000000</td>\n",
              "      <td>8.000000</td>\n",
              "      <td>11.000000</td>\n",
              "      <td>0.000000</td>\n",
              "      <td>NaN</td>\n",
              "      <td>1.000000</td>\n",
              "    </tr>\n",
              "    <tr>\n",
              "      <th>max</th>\n",
              "      <td>175341.000000</td>\n",
              "      <td>59.999989</td>\n",
              "      <td>NaN</td>\n",
              "      <td>NaN</td>\n",
              "      <td>NaN</td>\n",
              "      <td>10646.000000</td>\n",
              "      <td>11018.000000</td>\n",
              "      <td>1.435577e+07</td>\n",
              "      <td>1.465753e+07</td>\n",
              "      <td>1.000000e+06</td>\n",
              "      <td>...</td>\n",
              "      <td>46.000000</td>\n",
              "      <td>65.000000</td>\n",
              "      <td>4.000000</td>\n",
              "      <td>4.000000</td>\n",
              "      <td>30.000000</td>\n",
              "      <td>60.000000</td>\n",
              "      <td>62.000000</td>\n",
              "      <td>1.000000</td>\n",
              "      <td>NaN</td>\n",
              "      <td>1.000000</td>\n",
              "    </tr>\n",
              "  </tbody>\n",
              "</table>\n",
              "<p>11 rows × 45 columns</p>\n",
              "</div>\n",
              "    <div class=\"colab-df-buttons\">\n",
              "\n",
              "  <div class=\"colab-df-container\">\n",
              "    <button class=\"colab-df-convert\" onclick=\"convertToInteractive('df-f31de98b-4567-4de8-907a-a0a20ae29169')\"\n",
              "            title=\"Convert this dataframe to an interactive table.\"\n",
              "            style=\"display:none;\">\n",
              "\n",
              "  <svg xmlns=\"http://www.w3.org/2000/svg\" height=\"24px\" viewBox=\"0 -960 960 960\">\n",
              "    <path d=\"M120-120v-720h720v720H120Zm60-500h600v-160H180v160Zm220 220h160v-160H400v160Zm0 220h160v-160H400v160ZM180-400h160v-160H180v160Zm440 0h160v-160H620v160ZM180-180h160v-160H180v160Zm440 0h160v-160H620v160Z\"/>\n",
              "  </svg>\n",
              "    </button>\n",
              "\n",
              "  <style>\n",
              "    .colab-df-container {\n",
              "      display:flex;\n",
              "      gap: 12px;\n",
              "    }\n",
              "\n",
              "    .colab-df-convert {\n",
              "      background-color: #E8F0FE;\n",
              "      border: none;\n",
              "      border-radius: 50%;\n",
              "      cursor: pointer;\n",
              "      display: none;\n",
              "      fill: #1967D2;\n",
              "      height: 32px;\n",
              "      padding: 0 0 0 0;\n",
              "      width: 32px;\n",
              "    }\n",
              "\n",
              "    .colab-df-convert:hover {\n",
              "      background-color: #E2EBFA;\n",
              "      box-shadow: 0px 1px 2px rgba(60, 64, 67, 0.3), 0px 1px 3px 1px rgba(60, 64, 67, 0.15);\n",
              "      fill: #174EA6;\n",
              "    }\n",
              "\n",
              "    .colab-df-buttons div {\n",
              "      margin-bottom: 4px;\n",
              "    }\n",
              "\n",
              "    [theme=dark] .colab-df-convert {\n",
              "      background-color: #3B4455;\n",
              "      fill: #D2E3FC;\n",
              "    }\n",
              "\n",
              "    [theme=dark] .colab-df-convert:hover {\n",
              "      background-color: #434B5C;\n",
              "      box-shadow: 0px 1px 3px 1px rgba(0, 0, 0, 0.15);\n",
              "      filter: drop-shadow(0px 1px 2px rgba(0, 0, 0, 0.3));\n",
              "      fill: #FFFFFF;\n",
              "    }\n",
              "  </style>\n",
              "\n",
              "    <script>\n",
              "      const buttonEl =\n",
              "        document.querySelector('#df-f31de98b-4567-4de8-907a-a0a20ae29169 button.colab-df-convert');\n",
              "      buttonEl.style.display =\n",
              "        google.colab.kernel.accessAllowed ? 'block' : 'none';\n",
              "\n",
              "      async function convertToInteractive(key) {\n",
              "        const element = document.querySelector('#df-f31de98b-4567-4de8-907a-a0a20ae29169');\n",
              "        const dataTable =\n",
              "          await google.colab.kernel.invokeFunction('convertToInteractive',\n",
              "                                                    [key], {});\n",
              "        if (!dataTable) return;\n",
              "\n",
              "        const docLinkHtml = 'Like what you see? Visit the ' +\n",
              "          '<a target=\"_blank\" href=https://colab.research.google.com/notebooks/data_table.ipynb>data table notebook</a>'\n",
              "          + ' to learn more about interactive tables.';\n",
              "        element.innerHTML = '';\n",
              "        dataTable['output_type'] = 'display_data';\n",
              "        await google.colab.output.renderOutput(dataTable, element);\n",
              "        const docLink = document.createElement('div');\n",
              "        docLink.innerHTML = docLinkHtml;\n",
              "        element.appendChild(docLink);\n",
              "      }\n",
              "    </script>\n",
              "  </div>\n",
              "\n",
              "\n",
              "<div id=\"df-d14768da-0139-4b55-aec3-07f4a81f9c58\">\n",
              "  <button class=\"colab-df-quickchart\" onclick=\"quickchart('df-d14768da-0139-4b55-aec3-07f4a81f9c58')\"\n",
              "            title=\"Suggest charts\"\n",
              "            style=\"display:none;\">\n",
              "\n",
              "<svg xmlns=\"http://www.w3.org/2000/svg\" height=\"24px\"viewBox=\"0 0 24 24\"\n",
              "     width=\"24px\">\n",
              "    <g>\n",
              "        <path d=\"M19 3H5c-1.1 0-2 .9-2 2v14c0 1.1.9 2 2 2h14c1.1 0 2-.9 2-2V5c0-1.1-.9-2-2-2zM9 17H7v-7h2v7zm4 0h-2V7h2v10zm4 0h-2v-4h2v4z\"/>\n",
              "    </g>\n",
              "</svg>\n",
              "  </button>\n",
              "\n",
              "<style>\n",
              "  .colab-df-quickchart {\n",
              "      --bg-color: #E8F0FE;\n",
              "      --fill-color: #1967D2;\n",
              "      --hover-bg-color: #E2EBFA;\n",
              "      --hover-fill-color: #174EA6;\n",
              "      --disabled-fill-color: #AAA;\n",
              "      --disabled-bg-color: #DDD;\n",
              "  }\n",
              "\n",
              "  [theme=dark] .colab-df-quickchart {\n",
              "      --bg-color: #3B4455;\n",
              "      --fill-color: #D2E3FC;\n",
              "      --hover-bg-color: #434B5C;\n",
              "      --hover-fill-color: #FFFFFF;\n",
              "      --disabled-bg-color: #3B4455;\n",
              "      --disabled-fill-color: #666;\n",
              "  }\n",
              "\n",
              "  .colab-df-quickchart {\n",
              "    background-color: var(--bg-color);\n",
              "    border: none;\n",
              "    border-radius: 50%;\n",
              "    cursor: pointer;\n",
              "    display: none;\n",
              "    fill: var(--fill-color);\n",
              "    height: 32px;\n",
              "    padding: 0;\n",
              "    width: 32px;\n",
              "  }\n",
              "\n",
              "  .colab-df-quickchart:hover {\n",
              "    background-color: var(--hover-bg-color);\n",
              "    box-shadow: 0 1px 2px rgba(60, 64, 67, 0.3), 0 1px 3px 1px rgba(60, 64, 67, 0.15);\n",
              "    fill: var(--button-hover-fill-color);\n",
              "  }\n",
              "\n",
              "  .colab-df-quickchart-complete:disabled,\n",
              "  .colab-df-quickchart-complete:disabled:hover {\n",
              "    background-color: var(--disabled-bg-color);\n",
              "    fill: var(--disabled-fill-color);\n",
              "    box-shadow: none;\n",
              "  }\n",
              "\n",
              "  .colab-df-spinner {\n",
              "    border: 2px solid var(--fill-color);\n",
              "    border-color: transparent;\n",
              "    border-bottom-color: var(--fill-color);\n",
              "    animation:\n",
              "      spin 1s steps(1) infinite;\n",
              "  }\n",
              "\n",
              "  @keyframes spin {\n",
              "    0% {\n",
              "      border-color: transparent;\n",
              "      border-bottom-color: var(--fill-color);\n",
              "      border-left-color: var(--fill-color);\n",
              "    }\n",
              "    20% {\n",
              "      border-color: transparent;\n",
              "      border-left-color: var(--fill-color);\n",
              "      border-top-color: var(--fill-color);\n",
              "    }\n",
              "    30% {\n",
              "      border-color: transparent;\n",
              "      border-left-color: var(--fill-color);\n",
              "      border-top-color: var(--fill-color);\n",
              "      border-right-color: var(--fill-color);\n",
              "    }\n",
              "    40% {\n",
              "      border-color: transparent;\n",
              "      border-right-color: var(--fill-color);\n",
              "      border-top-color: var(--fill-color);\n",
              "    }\n",
              "    60% {\n",
              "      border-color: transparent;\n",
              "      border-right-color: var(--fill-color);\n",
              "    }\n",
              "    80% {\n",
              "      border-color: transparent;\n",
              "      border-right-color: var(--fill-color);\n",
              "      border-bottom-color: var(--fill-color);\n",
              "    }\n",
              "    90% {\n",
              "      border-color: transparent;\n",
              "      border-bottom-color: var(--fill-color);\n",
              "    }\n",
              "  }\n",
              "</style>\n",
              "\n",
              "  <script>\n",
              "    async function quickchart(key) {\n",
              "      const quickchartButtonEl =\n",
              "        document.querySelector('#' + key + ' button');\n",
              "      quickchartButtonEl.disabled = true;  // To prevent multiple clicks.\n",
              "      quickchartButtonEl.classList.add('colab-df-spinner');\n",
              "      try {\n",
              "        const charts = await google.colab.kernel.invokeFunction(\n",
              "            'suggestCharts', [key], {});\n",
              "      } catch (error) {\n",
              "        console.error('Error during call to suggestCharts:', error);\n",
              "      }\n",
              "      quickchartButtonEl.classList.remove('colab-df-spinner');\n",
              "      quickchartButtonEl.classList.add('colab-df-quickchart-complete');\n",
              "    }\n",
              "    (() => {\n",
              "      let quickchartButtonEl =\n",
              "        document.querySelector('#df-d14768da-0139-4b55-aec3-07f4a81f9c58 button');\n",
              "      quickchartButtonEl.style.display =\n",
              "        google.colab.kernel.accessAllowed ? 'block' : 'none';\n",
              "    })();\n",
              "  </script>\n",
              "</div>\n",
              "\n",
              "    </div>\n",
              "  </div>\n"
            ],
            "application/vnd.google.colaboratory.intrinsic+json": {
              "type": "dataframe"
            }
          },
          "metadata": {},
          "execution_count": 9
        }
      ]
    },
    {
      "cell_type": "markdown",
      "source": [
        "# **Display first 5 rows**"
      ],
      "metadata": {
        "id": "sRCiaEVHuZ57"
      }
    },
    {
      "cell_type": "code",
      "source": [
        "df.head()"
      ],
      "metadata": {
        "colab": {
          "base_uri": "https://localhost:8080/",
          "height": 255
        },
        "id": "MChA2SwoGN68",
        "outputId": "8e016a05-7be8-4827-9b14-ab74aa896344"
      },
      "execution_count": 10,
      "outputs": [
        {
          "output_type": "execute_result",
          "data": {
            "text/plain": [
              "   id       dur proto service state  spkts  dpkts  sbytes  dbytes  \\\n",
              "0   1  0.000011   udp       -   INT      2      0     496       0   \n",
              "1   2  0.000008   udp       -   INT      2      0    1762       0   \n",
              "2   3  0.000005   udp       -   INT      2      0    1068       0   \n",
              "3   4  0.000006   udp       -   INT      2      0     900       0   \n",
              "4   5  0.000010   udp       -   INT      2      0    2126       0   \n",
              "\n",
              "          rate  ...  ct_dst_sport_ltm  ct_dst_src_ltm  is_ftp_login  \\\n",
              "0   90909.0902  ...                 1               2             0   \n",
              "1  125000.0003  ...                 1               2             0   \n",
              "2  200000.0051  ...                 1               3             0   \n",
              "3  166666.6608  ...                 1               3             0   \n",
              "4  100000.0025  ...                 1               3             0   \n",
              "\n",
              "   ct_ftp_cmd  ct_flw_http_mthd  ct_src_ltm  ct_srv_dst  is_sm_ips_ports  \\\n",
              "0           0                 0           1           2                0   \n",
              "1           0                 0           1           2                0   \n",
              "2           0                 0           1           3                0   \n",
              "3           0                 0           2           3                0   \n",
              "4           0                 0           2           3                0   \n",
              "\n",
              "   attack_cat  label  \n",
              "0      Normal      0  \n",
              "1      Normal      0  \n",
              "2      Normal      0  \n",
              "3      Normal      0  \n",
              "4      Normal      0  \n",
              "\n",
              "[5 rows x 45 columns]"
            ],
            "text/html": [
              "\n",
              "  <div id=\"df-1718a566-8c4d-436a-b023-817582315d31\" class=\"colab-df-container\">\n",
              "    <div>\n",
              "<style scoped>\n",
              "    .dataframe tbody tr th:only-of-type {\n",
              "        vertical-align: middle;\n",
              "    }\n",
              "\n",
              "    .dataframe tbody tr th {\n",
              "        vertical-align: top;\n",
              "    }\n",
              "\n",
              "    .dataframe thead th {\n",
              "        text-align: right;\n",
              "    }\n",
              "</style>\n",
              "<table border=\"1\" class=\"dataframe\">\n",
              "  <thead>\n",
              "    <tr style=\"text-align: right;\">\n",
              "      <th></th>\n",
              "      <th>id</th>\n",
              "      <th>dur</th>\n",
              "      <th>proto</th>\n",
              "      <th>service</th>\n",
              "      <th>state</th>\n",
              "      <th>spkts</th>\n",
              "      <th>dpkts</th>\n",
              "      <th>sbytes</th>\n",
              "      <th>dbytes</th>\n",
              "      <th>rate</th>\n",
              "      <th>...</th>\n",
              "      <th>ct_dst_sport_ltm</th>\n",
              "      <th>ct_dst_src_ltm</th>\n",
              "      <th>is_ftp_login</th>\n",
              "      <th>ct_ftp_cmd</th>\n",
              "      <th>ct_flw_http_mthd</th>\n",
              "      <th>ct_src_ltm</th>\n",
              "      <th>ct_srv_dst</th>\n",
              "      <th>is_sm_ips_ports</th>\n",
              "      <th>attack_cat</th>\n",
              "      <th>label</th>\n",
              "    </tr>\n",
              "  </thead>\n",
              "  <tbody>\n",
              "    <tr>\n",
              "      <th>0</th>\n",
              "      <td>1</td>\n",
              "      <td>0.000011</td>\n",
              "      <td>udp</td>\n",
              "      <td>-</td>\n",
              "      <td>INT</td>\n",
              "      <td>2</td>\n",
              "      <td>0</td>\n",
              "      <td>496</td>\n",
              "      <td>0</td>\n",
              "      <td>90909.0902</td>\n",
              "      <td>...</td>\n",
              "      <td>1</td>\n",
              "      <td>2</td>\n",
              "      <td>0</td>\n",
              "      <td>0</td>\n",
              "      <td>0</td>\n",
              "      <td>1</td>\n",
              "      <td>2</td>\n",
              "      <td>0</td>\n",
              "      <td>Normal</td>\n",
              "      <td>0</td>\n",
              "    </tr>\n",
              "    <tr>\n",
              "      <th>1</th>\n",
              "      <td>2</td>\n",
              "      <td>0.000008</td>\n",
              "      <td>udp</td>\n",
              "      <td>-</td>\n",
              "      <td>INT</td>\n",
              "      <td>2</td>\n",
              "      <td>0</td>\n",
              "      <td>1762</td>\n",
              "      <td>0</td>\n",
              "      <td>125000.0003</td>\n",
              "      <td>...</td>\n",
              "      <td>1</td>\n",
              "      <td>2</td>\n",
              "      <td>0</td>\n",
              "      <td>0</td>\n",
              "      <td>0</td>\n",
              "      <td>1</td>\n",
              "      <td>2</td>\n",
              "      <td>0</td>\n",
              "      <td>Normal</td>\n",
              "      <td>0</td>\n",
              "    </tr>\n",
              "    <tr>\n",
              "      <th>2</th>\n",
              "      <td>3</td>\n",
              "      <td>0.000005</td>\n",
              "      <td>udp</td>\n",
              "      <td>-</td>\n",
              "      <td>INT</td>\n",
              "      <td>2</td>\n",
              "      <td>0</td>\n",
              "      <td>1068</td>\n",
              "      <td>0</td>\n",
              "      <td>200000.0051</td>\n",
              "      <td>...</td>\n",
              "      <td>1</td>\n",
              "      <td>3</td>\n",
              "      <td>0</td>\n",
              "      <td>0</td>\n",
              "      <td>0</td>\n",
              "      <td>1</td>\n",
              "      <td>3</td>\n",
              "      <td>0</td>\n",
              "      <td>Normal</td>\n",
              "      <td>0</td>\n",
              "    </tr>\n",
              "    <tr>\n",
              "      <th>3</th>\n",
              "      <td>4</td>\n",
              "      <td>0.000006</td>\n",
              "      <td>udp</td>\n",
              "      <td>-</td>\n",
              "      <td>INT</td>\n",
              "      <td>2</td>\n",
              "      <td>0</td>\n",
              "      <td>900</td>\n",
              "      <td>0</td>\n",
              "      <td>166666.6608</td>\n",
              "      <td>...</td>\n",
              "      <td>1</td>\n",
              "      <td>3</td>\n",
              "      <td>0</td>\n",
              "      <td>0</td>\n",
              "      <td>0</td>\n",
              "      <td>2</td>\n",
              "      <td>3</td>\n",
              "      <td>0</td>\n",
              "      <td>Normal</td>\n",
              "      <td>0</td>\n",
              "    </tr>\n",
              "    <tr>\n",
              "      <th>4</th>\n",
              "      <td>5</td>\n",
              "      <td>0.000010</td>\n",
              "      <td>udp</td>\n",
              "      <td>-</td>\n",
              "      <td>INT</td>\n",
              "      <td>2</td>\n",
              "      <td>0</td>\n",
              "      <td>2126</td>\n",
              "      <td>0</td>\n",
              "      <td>100000.0025</td>\n",
              "      <td>...</td>\n",
              "      <td>1</td>\n",
              "      <td>3</td>\n",
              "      <td>0</td>\n",
              "      <td>0</td>\n",
              "      <td>0</td>\n",
              "      <td>2</td>\n",
              "      <td>3</td>\n",
              "      <td>0</td>\n",
              "      <td>Normal</td>\n",
              "      <td>0</td>\n",
              "    </tr>\n",
              "  </tbody>\n",
              "</table>\n",
              "<p>5 rows × 45 columns</p>\n",
              "</div>\n",
              "    <div class=\"colab-df-buttons\">\n",
              "\n",
              "  <div class=\"colab-df-container\">\n",
              "    <button class=\"colab-df-convert\" onclick=\"convertToInteractive('df-1718a566-8c4d-436a-b023-817582315d31')\"\n",
              "            title=\"Convert this dataframe to an interactive table.\"\n",
              "            style=\"display:none;\">\n",
              "\n",
              "  <svg xmlns=\"http://www.w3.org/2000/svg\" height=\"24px\" viewBox=\"0 -960 960 960\">\n",
              "    <path d=\"M120-120v-720h720v720H120Zm60-500h600v-160H180v160Zm220 220h160v-160H400v160Zm0 220h160v-160H400v160ZM180-400h160v-160H180v160Zm440 0h160v-160H620v160ZM180-180h160v-160H180v160Zm440 0h160v-160H620v160Z\"/>\n",
              "  </svg>\n",
              "    </button>\n",
              "\n",
              "  <style>\n",
              "    .colab-df-container {\n",
              "      display:flex;\n",
              "      gap: 12px;\n",
              "    }\n",
              "\n",
              "    .colab-df-convert {\n",
              "      background-color: #E8F0FE;\n",
              "      border: none;\n",
              "      border-radius: 50%;\n",
              "      cursor: pointer;\n",
              "      display: none;\n",
              "      fill: #1967D2;\n",
              "      height: 32px;\n",
              "      padding: 0 0 0 0;\n",
              "      width: 32px;\n",
              "    }\n",
              "\n",
              "    .colab-df-convert:hover {\n",
              "      background-color: #E2EBFA;\n",
              "      box-shadow: 0px 1px 2px rgba(60, 64, 67, 0.3), 0px 1px 3px 1px rgba(60, 64, 67, 0.15);\n",
              "      fill: #174EA6;\n",
              "    }\n",
              "\n",
              "    .colab-df-buttons div {\n",
              "      margin-bottom: 4px;\n",
              "    }\n",
              "\n",
              "    [theme=dark] .colab-df-convert {\n",
              "      background-color: #3B4455;\n",
              "      fill: #D2E3FC;\n",
              "    }\n",
              "\n",
              "    [theme=dark] .colab-df-convert:hover {\n",
              "      background-color: #434B5C;\n",
              "      box-shadow: 0px 1px 3px 1px rgba(0, 0, 0, 0.15);\n",
              "      filter: drop-shadow(0px 1px 2px rgba(0, 0, 0, 0.3));\n",
              "      fill: #FFFFFF;\n",
              "    }\n",
              "  </style>\n",
              "\n",
              "    <script>\n",
              "      const buttonEl =\n",
              "        document.querySelector('#df-1718a566-8c4d-436a-b023-817582315d31 button.colab-df-convert');\n",
              "      buttonEl.style.display =\n",
              "        google.colab.kernel.accessAllowed ? 'block' : 'none';\n",
              "\n",
              "      async function convertToInteractive(key) {\n",
              "        const element = document.querySelector('#df-1718a566-8c4d-436a-b023-817582315d31');\n",
              "        const dataTable =\n",
              "          await google.colab.kernel.invokeFunction('convertToInteractive',\n",
              "                                                    [key], {});\n",
              "        if (!dataTable) return;\n",
              "\n",
              "        const docLinkHtml = 'Like what you see? Visit the ' +\n",
              "          '<a target=\"_blank\" href=https://colab.research.google.com/notebooks/data_table.ipynb>data table notebook</a>'\n",
              "          + ' to learn more about interactive tables.';\n",
              "        element.innerHTML = '';\n",
              "        dataTable['output_type'] = 'display_data';\n",
              "        await google.colab.output.renderOutput(dataTable, element);\n",
              "        const docLink = document.createElement('div');\n",
              "        docLink.innerHTML = docLinkHtml;\n",
              "        element.appendChild(docLink);\n",
              "      }\n",
              "    </script>\n",
              "  </div>\n",
              "\n",
              "\n",
              "<div id=\"df-c649bf35-4596-40cb-aa9c-c13080f8ca78\">\n",
              "  <button class=\"colab-df-quickchart\" onclick=\"quickchart('df-c649bf35-4596-40cb-aa9c-c13080f8ca78')\"\n",
              "            title=\"Suggest charts\"\n",
              "            style=\"display:none;\">\n",
              "\n",
              "<svg xmlns=\"http://www.w3.org/2000/svg\" height=\"24px\"viewBox=\"0 0 24 24\"\n",
              "     width=\"24px\">\n",
              "    <g>\n",
              "        <path d=\"M19 3H5c-1.1 0-2 .9-2 2v14c0 1.1.9 2 2 2h14c1.1 0 2-.9 2-2V5c0-1.1-.9-2-2-2zM9 17H7v-7h2v7zm4 0h-2V7h2v10zm4 0h-2v-4h2v4z\"/>\n",
              "    </g>\n",
              "</svg>\n",
              "  </button>\n",
              "\n",
              "<style>\n",
              "  .colab-df-quickchart {\n",
              "      --bg-color: #E8F0FE;\n",
              "      --fill-color: #1967D2;\n",
              "      --hover-bg-color: #E2EBFA;\n",
              "      --hover-fill-color: #174EA6;\n",
              "      --disabled-fill-color: #AAA;\n",
              "      --disabled-bg-color: #DDD;\n",
              "  }\n",
              "\n",
              "  [theme=dark] .colab-df-quickchart {\n",
              "      --bg-color: #3B4455;\n",
              "      --fill-color: #D2E3FC;\n",
              "      --hover-bg-color: #434B5C;\n",
              "      --hover-fill-color: #FFFFFF;\n",
              "      --disabled-bg-color: #3B4455;\n",
              "      --disabled-fill-color: #666;\n",
              "  }\n",
              "\n",
              "  .colab-df-quickchart {\n",
              "    background-color: var(--bg-color);\n",
              "    border: none;\n",
              "    border-radius: 50%;\n",
              "    cursor: pointer;\n",
              "    display: none;\n",
              "    fill: var(--fill-color);\n",
              "    height: 32px;\n",
              "    padding: 0;\n",
              "    width: 32px;\n",
              "  }\n",
              "\n",
              "  .colab-df-quickchart:hover {\n",
              "    background-color: var(--hover-bg-color);\n",
              "    box-shadow: 0 1px 2px rgba(60, 64, 67, 0.3), 0 1px 3px 1px rgba(60, 64, 67, 0.15);\n",
              "    fill: var(--button-hover-fill-color);\n",
              "  }\n",
              "\n",
              "  .colab-df-quickchart-complete:disabled,\n",
              "  .colab-df-quickchart-complete:disabled:hover {\n",
              "    background-color: var(--disabled-bg-color);\n",
              "    fill: var(--disabled-fill-color);\n",
              "    box-shadow: none;\n",
              "  }\n",
              "\n",
              "  .colab-df-spinner {\n",
              "    border: 2px solid var(--fill-color);\n",
              "    border-color: transparent;\n",
              "    border-bottom-color: var(--fill-color);\n",
              "    animation:\n",
              "      spin 1s steps(1) infinite;\n",
              "  }\n",
              "\n",
              "  @keyframes spin {\n",
              "    0% {\n",
              "      border-color: transparent;\n",
              "      border-bottom-color: var(--fill-color);\n",
              "      border-left-color: var(--fill-color);\n",
              "    }\n",
              "    20% {\n",
              "      border-color: transparent;\n",
              "      border-left-color: var(--fill-color);\n",
              "      border-top-color: var(--fill-color);\n",
              "    }\n",
              "    30% {\n",
              "      border-color: transparent;\n",
              "      border-left-color: var(--fill-color);\n",
              "      border-top-color: var(--fill-color);\n",
              "      border-right-color: var(--fill-color);\n",
              "    }\n",
              "    40% {\n",
              "      border-color: transparent;\n",
              "      border-right-color: var(--fill-color);\n",
              "      border-top-color: var(--fill-color);\n",
              "    }\n",
              "    60% {\n",
              "      border-color: transparent;\n",
              "      border-right-color: var(--fill-color);\n",
              "    }\n",
              "    80% {\n",
              "      border-color: transparent;\n",
              "      border-right-color: var(--fill-color);\n",
              "      border-bottom-color: var(--fill-color);\n",
              "    }\n",
              "    90% {\n",
              "      border-color: transparent;\n",
              "      border-bottom-color: var(--fill-color);\n",
              "    }\n",
              "  }\n",
              "</style>\n",
              "\n",
              "  <script>\n",
              "    async function quickchart(key) {\n",
              "      const quickchartButtonEl =\n",
              "        document.querySelector('#' + key + ' button');\n",
              "      quickchartButtonEl.disabled = true;  // To prevent multiple clicks.\n",
              "      quickchartButtonEl.classList.add('colab-df-spinner');\n",
              "      try {\n",
              "        const charts = await google.colab.kernel.invokeFunction(\n",
              "            'suggestCharts', [key], {});\n",
              "      } catch (error) {\n",
              "        console.error('Error during call to suggestCharts:', error);\n",
              "      }\n",
              "      quickchartButtonEl.classList.remove('colab-df-spinner');\n",
              "      quickchartButtonEl.classList.add('colab-df-quickchart-complete');\n",
              "    }\n",
              "    (() => {\n",
              "      let quickchartButtonEl =\n",
              "        document.querySelector('#df-c649bf35-4596-40cb-aa9c-c13080f8ca78 button');\n",
              "      quickchartButtonEl.style.display =\n",
              "        google.colab.kernel.accessAllowed ? 'block' : 'none';\n",
              "    })();\n",
              "  </script>\n",
              "</div>\n",
              "\n",
              "    </div>\n",
              "  </div>\n"
            ],
            "application/vnd.google.colaboratory.intrinsic+json": {
              "type": "dataframe",
              "variable_name": "df"
            }
          },
          "metadata": {},
          "execution_count": 10
        }
      ]
    },
    {
      "cell_type": "markdown",
      "source": [
        "# **Count no. of Duplicates**"
      ],
      "metadata": {
        "id": "0-L-HaL1unXE"
      }
    },
    {
      "cell_type": "code",
      "source": [
        "print(df.duplicated().sum())"
      ],
      "metadata": {
        "colab": {
          "base_uri": "https://localhost:8080/"
        },
        "id": "xwvFk7E_GWYq",
        "outputId": "3f12a431-c460-4e3b-993b-9573ea77a74b"
      },
      "execution_count": 11,
      "outputs": [
        {
          "output_type": "stream",
          "name": "stdout",
          "text": [
            "0\n"
          ]
        }
      ]
    },
    {
      "cell_type": "markdown",
      "source": [
        "# **No. of Missing Values**"
      ],
      "metadata": {
        "id": "DXLkP0Kau9Yw"
      }
    },
    {
      "cell_type": "code",
      "source": [
        "print(df.isna().sum())"
      ],
      "metadata": {
        "colab": {
          "base_uri": "https://localhost:8080/"
        },
        "id": "b0UMpIXlGYR9",
        "outputId": "7ee728e5-bfdf-44cd-e4ab-b7ed4cf9839c"
      },
      "execution_count": 12,
      "outputs": [
        {
          "output_type": "stream",
          "name": "stdout",
          "text": [
            "id                   0\n",
            "dur                  0\n",
            "proto                0\n",
            "service              0\n",
            "state                0\n",
            "spkts                0\n",
            "dpkts                0\n",
            "sbytes               0\n",
            "dbytes               0\n",
            "rate                 0\n",
            "sttl                 0\n",
            "dttl                 0\n",
            "sload                0\n",
            "dload                0\n",
            "sloss                0\n",
            "dloss                0\n",
            "sinpkt               0\n",
            "dinpkt               0\n",
            "sjit                 0\n",
            "djit                 0\n",
            "swin                 0\n",
            "stcpb                0\n",
            "dtcpb                0\n",
            "dwin                 0\n",
            "tcprtt               0\n",
            "synack               0\n",
            "ackdat               0\n",
            "smean                0\n",
            "dmean                0\n",
            "trans_depth          0\n",
            "response_body_len    0\n",
            "ct_srv_src           0\n",
            "ct_state_ttl         0\n",
            "ct_dst_ltm           0\n",
            "ct_src_dport_ltm     0\n",
            "ct_dst_sport_ltm     0\n",
            "ct_dst_src_ltm       0\n",
            "is_ftp_login         0\n",
            "ct_ftp_cmd           0\n",
            "ct_flw_http_mthd     0\n",
            "ct_src_ltm           0\n",
            "ct_srv_dst           0\n",
            "is_sm_ips_ports      0\n",
            "attack_cat           0\n",
            "label                0\n",
            "dtype: int64\n"
          ]
        }
      ]
    },
    {
      "cell_type": "markdown",
      "source": [
        "# **Visualize values of 'label'**"
      ],
      "metadata": {
        "id": "80SBLW1WvT_p"
      }
    },
    {
      "cell_type": "code",
      "source": [
        "df['label'].value_counts().plot.bar()"
      ],
      "metadata": {
        "colab": {
          "base_uri": "https://localhost:8080/",
          "height": 461
        },
        "id": "Or52INxRGh26",
        "outputId": "be8db3fc-e601-49f9-ffa8-4fe9c32f58b0"
      },
      "execution_count": 13,
      "outputs": [
        {
          "output_type": "execute_result",
          "data": {
            "text/plain": [
              "<Axes: xlabel='label'>"
            ]
          },
          "metadata": {},
          "execution_count": 13
        },
        {
          "output_type": "display_data",
          "data": {
            "text/plain": [
              "<Figure size 640x480 with 1 Axes>"
            ],
            "image/png": "[encoded data removed]"
          },
          "metadata": {}
        }
      ]
    },
    {
      "cell_type": "markdown",
      "source": [
        "# **Freq. of unique values in 'label'**"
      ],
      "metadata": {
        "id": "QpN5LEKzwIAv"
      }
    },
    {
      "cell_type": "code",
      "source": [
        "df['label'].value_counts(normalize=True)\n"
      ],
      "metadata": {
        "colab": {
          "base_uri": "https://localhost:8080/",
          "height": 178
        },
        "id": "3mrOs0iLGmz9",
        "outputId": "addafe9e-741f-45ed-fab8-ca108bc98d6b"
      },
      "execution_count": 14,
      "outputs": [
        {
          "output_type": "execute_result",
          "data": {
            "text/plain": [
              "label\n",
              "1    0.639077\n",
              "0    0.360923\n",
              "Name: proportion, dtype: float64"
            ],
            "text/html": [
              "<div>\n",
              "<style scoped>\n",
              "    .dataframe tbody tr th:only-of-type {\n",
              "        vertical-align: middle;\n",
              "    }\n",
              "\n",
              "    .dataframe tbody tr th {\n",
              "        vertical-align: top;\n",
              "    }\n",
              "\n",
              "    .dataframe thead th {\n",
              "        text-align: right;\n",
              "    }\n",
              "</style>\n",
              "<table border=\"1\" class=\"dataframe\">\n",
              "  <thead>\n",
              "    <tr style=\"text-align: right;\">\n",
              "      <th></th>\n",
              "      <th>proportion</th>\n",
              "    </tr>\n",
              "    <tr>\n",
              "      <th>label</th>\n",
              "      <th></th>\n",
              "    </tr>\n",
              "  </thead>\n",
              "  <tbody>\n",
              "    <tr>\n",
              "      <th>1</th>\n",
              "      <td>0.639077</td>\n",
              "    </tr>\n",
              "    <tr>\n",
              "      <th>0</th>\n",
              "      <td>0.360923</td>\n",
              "    </tr>\n",
              "  </tbody>\n",
              "</table>\n",
              "</div><br><label><b>dtype:</b> float64</label>"
            ]
          },
          "metadata": {},
          "execution_count": 14
        }
      ]
    },
    {
      "cell_type": "markdown",
      "source": [
        "# **Removing Columns**"
      ],
      "metadata": {
        "id": "a0CwVLFwwhgz"
      }
    },
    {
      "cell_type": "code",
      "source": [
        "df = df.drop(columns=['id', 'attack_cat'])"
      ],
      "metadata": {
        "id": "q1hngI0IGwVc"
      },
      "execution_count": 15,
      "outputs": []
    },
    {
      "cell_type": "markdown",
      "source": [
        "# **Convert Categorical to Numerical Values**"
      ],
      "metadata": {
        "id": "9Qmp41joxTRv"
      }
    },
    {
      "cell_type": "code",
      "source": [
        "df_cat = df.select_dtypes(exclude=[np.number])\n",
        "print(df_cat.columns)\n",
        "for feature in df_cat.columns:\n",
        "    df[feature] = LabelEncoder().fit_transform(df[feature])"
      ],
      "metadata": {
        "colab": {
          "base_uri": "https://localhost:8080/"
        },
        "id": "2RFmABlnG2UV",
        "outputId": "3a5c69b8-d88e-42a6-9aa3-32c5647a8f3a"
      },
      "execution_count": 16,
      "outputs": [
        {
          "output_type": "stream",
          "name": "stdout",
          "text": [
            "Index(['proto', 'service', 'state'], dtype='object')\n"
          ]
        }
      ]
    },
    {
      "cell_type": "code",
      "source": [
        "df.head()"
      ],
      "metadata": {
        "colab": {
          "base_uri": "https://localhost:8080/",
          "height": 255
        },
        "id": "8sG7pfjDG4R3",
        "outputId": "f4d6e20a-216f-4645-c1b7-8a58a6dec6dc"
      },
      "execution_count": 17,
      "outputs": [
        {
          "output_type": "execute_result",
          "data": {
            "text/plain": [
              "        dur  proto  service  state  spkts  dpkts  sbytes  dbytes         rate  \\\n",
              "0  0.000011    119        0      5      2      0     496       0   90909.0902   \n",
              "1  0.000008    119        0      5      2      0    1762       0  125000.0003   \n",
              "2  0.000005    119        0      5      2      0    1068       0  200000.0051   \n",
              "3  0.000006    119        0      5      2      0     900       0  166666.6608   \n",
              "4  0.000010    119        0      5      2      0    2126       0  100000.0025   \n",
              "\n",
              "   sttl  ...  ct_src_dport_ltm  ct_dst_sport_ltm  ct_dst_src_ltm  \\\n",
              "0   254  ...                 1                 1               2   \n",
              "1   254  ...                 1                 1               2   \n",
              "2   254  ...                 1                 1               3   \n",
              "3   254  ...                 2                 1               3   \n",
              "4   254  ...                 2                 1               3   \n",
              "\n",
              "   is_ftp_login  ct_ftp_cmd  ct_flw_http_mthd  ct_src_ltm  ct_srv_dst  \\\n",
              "0             0           0                 0           1           2   \n",
              "1             0           0                 0           1           2   \n",
              "2             0           0                 0           1           3   \n",
              "3             0           0                 0           2           3   \n",
              "4             0           0                 0           2           3   \n",
              "\n",
              "   is_sm_ips_ports  label  \n",
              "0                0      0  \n",
              "1                0      0  \n",
              "2                0      0  \n",
              "3                0      0  \n",
              "4                0      0  \n",
              "\n",
              "[5 rows x 43 columns]"
            ],
            "text/html": [
              "\n",
              "  <div id=\"df-12800282-bb5d-4b66-807f-f7960c43dbd3\" class=\"colab-df-container\">\n",
              "    <div>\n",
              "<style scoped>\n",
              "    .dataframe tbody tr th:only-of-type {\n",
              "        vertical-align: middle;\n",
              "    }\n",
              "\n",
              "    .dataframe tbody tr th {\n",
              "        vertical-align: top;\n",
              "    }\n",
              "\n",
              "    .dataframe thead th {\n",
              "        text-align: right;\n",
              "    }\n",
              "</style>\n",
              "<table border=\"1\" class=\"dataframe\">\n",
              "  <thead>\n",
              "    <tr style=\"text-align: right;\">\n",
              "      <th></th>\n",
              "      <th>dur</th>\n",
              "      <th>proto</th>\n",
              "      <th>service</th>\n",
              "      <th>state</th>\n",
              "      <th>spkts</th>\n",
              "      <th>dpkts</th>\n",
              "      <th>sbytes</th>\n",
              "      <th>dbytes</th>\n",
              "      <th>rate</th>\n",
              "      <th>sttl</th>\n",
              "      <th>...</th>\n",
              "      <th>ct_src_dport_ltm</th>\n",
              "      <th>ct_dst_sport_ltm</th>\n",
              "      <th>ct_dst_src_ltm</th>\n",
              "      <th>is_ftp_login</th>\n",
              "      <th>ct_ftp_cmd</th>\n",
              "      <th>ct_flw_http_mthd</th>\n",
              "      <th>ct_src_ltm</th>\n",
              "      <th>ct_srv_dst</th>\n",
              "      <th>is_sm_ips_ports</th>\n",
              "      <th>label</th>\n",
              "    </tr>\n",
              "  </thead>\n",
              "  <tbody>\n",
              "    <tr>\n",
              "      <th>0</th>\n",
              "      <td>0.000011</td>\n",
              "      <td>119</td>\n",
              "      <td>0</td>\n",
              "      <td>5</td>\n",
              "      <td>2</td>\n",
              "      <td>0</td>\n",
              "      <td>496</td>\n",
              "      <td>0</td>\n",
              "      <td>90909.0902</td>\n",
              "      <td>254</td>\n",
              "      <td>...</td>\n",
              "      <td>1</td>\n",
              "      <td>1</td>\n",
              "      <td>2</td>\n",
              "      <td>0</td>\n",
              "      <td>0</td>\n",
              "      <td>0</td>\n",
              "      <td>1</td>\n",
              "      <td>2</td>\n",
              "      <td>0</td>\n",
              "      <td>0</td>\n",
              "    </tr>\n",
              "    <tr>\n",
              "      <th>1</th>\n",
              "      <td>0.000008</td>\n",
              "      <td>119</td>\n",
              "      <td>0</td>\n",
              "      <td>5</td>\n",
              "      <td>2</td>\n",
              "      <td>0</td>\n",
              "      <td>1762</td>\n",
              "      <td>0</td>\n",
              "      <td>125000.0003</td>\n",
              "      <td>254</td>\n",
              "      <td>...</td>\n",
              "      <td>1</td>\n",
              "      <td>1</td>\n",
              "      <td>2</td>\n",
              "      <td>0</td>\n",
              "      <td>0</td>\n",
              "      <td>0</td>\n",
              "      <td>1</td>\n",
              "      <td>2</td>\n",
              "      <td>0</td>\n",
              "      <td>0</td>\n",
              "    </tr>\n",
              "    <tr>\n",
              "      <th>2</th>\n",
              "      <td>0.000005</td>\n",
              "      <td>119</td>\n",
              "      <td>0</td>\n",
              "      <td>5</td>\n",
              "      <td>2</td>\n",
              "      <td>0</td>\n",
              "      <td>1068</td>\n",
              "      <td>0</td>\n",
              "      <td>200000.0051</td>\n",
              "      <td>254</td>\n",
              "      <td>...</td>\n",
              "      <td>1</td>\n",
              "      <td>1</td>\n",
              "      <td>3</td>\n",
              "      <td>0</td>\n",
              "      <td>0</td>\n",
              "      <td>0</td>\n",
              "      <td>1</td>\n",
              "      <td>3</td>\n",
              "      <td>0</td>\n",
              "      <td>0</td>\n",
              "    </tr>\n",
              "    <tr>\n",
              "      <th>3</th>\n",
              "      <td>0.000006</td>\n",
              "      <td>119</td>\n",
              "      <td>0</td>\n",
              "      <td>5</td>\n",
              "      <td>2</td>\n",
              "      <td>0</td>\n",
              "      <td>900</td>\n",
              "      <td>0</td>\n",
              "      <td>166666.6608</td>\n",
              "      <td>254</td>\n",
              "      <td>...</td>\n",
              "      <td>2</td>\n",
              "      <td>1</td>\n",
              "      <td>3</td>\n",
              "      <td>0</td>\n",
              "      <td>0</td>\n",
              "      <td>0</td>\n",
              "      <td>2</td>\n",
              "      <td>3</td>\n",
              "      <td>0</td>\n",
              "      <td>0</td>\n",
              "    </tr>\n",
              "    <tr>\n",
              "      <th>4</th>\n",
              "      <td>0.000010</td>\n",
              "      <td>119</td>\n",
              "      <td>0</td>\n",
              "      <td>5</td>\n",
              "      <td>2</td>\n",
              "      <td>0</td>\n",
              "      <td>2126</td>\n",
              "      <td>0</td>\n",
              "      <td>100000.0025</td>\n",
              "      <td>254</td>\n",
              "      <td>...</td>\n",
              "      <td>2</td>\n",
              "      <td>1</td>\n",
              "      <td>3</td>\n",
              "      <td>0</td>\n",
              "      <td>0</td>\n",
              "      <td>0</td>\n",
              "      <td>2</td>\n",
              "      <td>3</td>\n",
              "      <td>0</td>\n",
              "      <td>0</td>\n",
              "    </tr>\n",
              "  </tbody>\n",
              "</table>\n",
              "<p>5 rows × 43 columns</p>\n",
              "</div>\n",
              "    <div class=\"colab-df-buttons\">\n",
              "\n",
              "  <div class=\"colab-df-container\">\n",
              "    <button class=\"colab-df-convert\" onclick=\"convertToInteractive('df-12800282-bb5d-4b66-807f-f7960c43dbd3')\"\n",
              "            title=\"Convert this dataframe to an interactive table.\"\n",
              "            style=\"display:none;\">\n",
              "\n",
              "  <svg xmlns=\"http://www.w3.org/2000/svg\" height=\"24px\" viewBox=\"0 -960 960 960\">\n",
              "    <path d=\"M120-120v-720h720v720H120Zm60-500h600v-160H180v160Zm220 220h160v-160H400v160Zm0 220h160v-160H400v160ZM180-400h160v-160H180v160Zm440 0h160v-160H620v160ZM180-180h160v-160H180v160Zm440 0h160v-160H620v160Z\"/>\n",
              "  </svg>\n",
              "    </button>\n",
              "\n",
              "  <style>\n",
              "    .colab-df-container {\n",
              "      display:flex;\n",
              "      gap: 12px;\n",
              "    }\n",
              "\n",
              "    .colab-df-convert {\n",
              "      background-color: #E8F0FE;\n",
              "      border: none;\n",
              "      border-radius: 50%;\n",
              "      cursor: pointer;\n",
              "      display: none;\n",
              "      fill: #1967D2;\n",
              "      height: 32px;\n",
              "      padding: 0 0 0 0;\n",
              "      width: 32px;\n",
              "    }\n",
              "\n",
              "    .colab-df-convert:hover {\n",
              "      background-color: #E2EBFA;\n",
              "      box-shadow: 0px 1px 2px rgba(60, 64, 67, 0.3), 0px 1px 3px 1px rgba(60, 64, 67, 0.15);\n",
              "      fill: #174EA6;\n",
              "    }\n",
              "\n",
              "    .colab-df-buttons div {\n",
              "      margin-bottom: 4px;\n",
              "    }\n",
              "\n",
              "    [theme=dark] .colab-df-convert {\n",
              "      background-color: #3B4455;\n",
              "      fill: #D2E3FC;\n",
              "    }\n",
              "\n",
              "    [theme=dark] .colab-df-convert:hover {\n",
              "      background-color: #434B5C;\n",
              "      box-shadow: 0px 1px 3px 1px rgba(0, 0, 0, 0.15);\n",
              "      filter: drop-shadow(0px 1px 2px rgba(0, 0, 0, 0.3));\n",
              "      fill: #FFFFFF;\n",
              "    }\n",
              "  </style>\n",
              "\n",
              "    <script>\n",
              "      const buttonEl =\n",
              "        document.querySelector('#df-12800282-bb5d-4b66-807f-f7960c43dbd3 button.colab-df-convert');\n",
              "      buttonEl.style.display =\n",
              "        google.colab.kernel.accessAllowed ? 'block' : 'none';\n",
              "\n",
              "      async function convertToInteractive(key) {\n",
              "        const element = document.querySelector('#df-12800282-bb5d-4b66-807f-f7960c43dbd3');\n",
              "        const dataTable =\n",
              "          await google.colab.kernel.invokeFunction('convertToInteractive',\n",
              "                                                    [key], {});\n",
              "        if (!dataTable) return;\n",
              "\n",
              "        const docLinkHtml = 'Like what you see? Visit the ' +\n",
              "          '<a target=\"_blank\" href=https://colab.research.google.com/notebooks/data_table.ipynb>data table notebook</a>'\n",
              "          + ' to learn more about interactive tables.';\n",
              "        element.innerHTML = '';\n",
              "        dataTable['output_type'] = 'display_data';\n",
              "        await google.colab.output.renderOutput(dataTable, element);\n",
              "        const docLink = document.createElement('div');\n",
              "        docLink.innerHTML = docLinkHtml;\n",
              "        element.appendChild(docLink);\n",
              "      }\n",
              "    </script>\n",
              "  </div>\n",
              "\n",
              "\n",
              "<div id=\"df-f2044bd4-e2d8-41d3-a2c6-9ef51d6d5868\">\n",
              "  <button class=\"colab-df-quickchart\" onclick=\"quickchart('df-f2044bd4-e2d8-41d3-a2c6-9ef51d6d5868')\"\n",
              "            title=\"Suggest charts\"\n",
              "            style=\"display:none;\">\n",
              "\n",
              "<svg xmlns=\"http://www.w3.org/2000/svg\" height=\"24px\"viewBox=\"0 0 24 24\"\n",
              "     width=\"24px\">\n",
              "    <g>\n",
              "        <path d=\"M19 3H5c-1.1 0-2 .9-2 2v14c0 1.1.9 2 2 2h14c1.1 0 2-.9 2-2V5c0-1.1-.9-2-2-2zM9 17H7v-7h2v7zm4 0h-2V7h2v10zm4 0h-2v-4h2v4z\"/>\n",
              "    </g>\n",
              "</svg>\n",
              "  </button>\n",
              "\n",
              "<style>\n",
              "  .colab-df-quickchart {\n",
              "      --bg-color: #E8F0FE;\n",
              "      --fill-color: #1967D2;\n",
              "      --hover-bg-color: #E2EBFA;\n",
              "      --hover-fill-color: #174EA6;\n",
              "      --disabled-fill-color: #AAA;\n",
              "      --disabled-bg-color: #DDD;\n",
              "  }\n",
              "\n",
              "  [theme=dark] .colab-df-quickchart {\n",
              "      --bg-color: #3B4455;\n",
              "      --fill-color: #D2E3FC;\n",
              "      --hover-bg-color: #434B5C;\n",
              "      --hover-fill-color: #FFFFFF;\n",
              "      --disabled-bg-color: #3B4455;\n",
              "      --disabled-fill-color: #666;\n",
              "  }\n",
              "\n",
              "  .colab-df-quickchart {\n",
              "    background-color: var(--bg-color);\n",
              "    border: none;\n",
              "    border-radius: 50%;\n",
              "    cursor: pointer;\n",
              "    display: none;\n",
              "    fill: var(--fill-color);\n",
              "    height: 32px;\n",
              "    padding: 0;\n",
              "    width: 32px;\n",
              "  }\n",
              "\n",
              "  .colab-df-quickchart:hover {\n",
              "    background-color: var(--hover-bg-color);\n",
              "    box-shadow: 0 1px 2px rgba(60, 64, 67, 0.3), 0 1px 3px 1px rgba(60, 64, 67, 0.15);\n",
              "    fill: var(--button-hover-fill-color);\n",
              "  }\n",
              "\n",
              "  .colab-df-quickchart-complete:disabled,\n",
              "  .colab-df-quickchart-complete:disabled:hover {\n",
              "    background-color: var(--disabled-bg-color);\n",
              "    fill: var(--disabled-fill-color);\n",
              "    box-shadow: none;\n",
              "  }\n",
              "\n",
              "  .colab-df-spinner {\n",
              "    border: 2px solid var(--fill-color);\n",
              "    border-color: transparent;\n",
              "    border-bottom-color: var(--fill-color);\n",
              "    animation:\n",
              "      spin 1s steps(1) infinite;\n",
              "  }\n",
              "\n",
              "  @keyframes spin {\n",
              "    0% {\n",
              "      border-color: transparent;\n",
              "      border-bottom-color: var(--fill-color);\n",
              "      border-left-color: var(--fill-color);\n",
              "    }\n",
              "    20% {\n",
              "      border-color: transparent;\n",
              "      border-left-color: var(--fill-color);\n",
              "      border-top-color: var(--fill-color);\n",
              "    }\n",
              "    30% {\n",
              "      border-color: transparent;\n",
              "      border-left-color: var(--fill-color);\n",
              "      border-top-color: var(--fill-color);\n",
              "      border-right-color: var(--fill-color);\n",
              "    }\n",
              "    40% {\n",
              "      border-color: transparent;\n",
              "      border-right-color: var(--fill-color);\n",
              "      border-top-color: var(--fill-color);\n",
              "    }\n",
              "    60% {\n",
              "      border-color: transparent;\n",
              "      border-right-color: var(--fill-color);\n",
              "    }\n",
              "    80% {\n",
              "      border-color: transparent;\n",
              "      border-right-color: var(--fill-color);\n",
              "      border-bottom-color: var(--fill-color);\n",
              "    }\n",
              "    90% {\n",
              "      border-color: transparent;\n",
              "      border-bottom-color: var(--fill-color);\n",
              "    }\n",
              "  }\n",
              "</style>\n",
              "\n",
              "  <script>\n",
              "    async function quickchart(key) {\n",
              "      const quickchartButtonEl =\n",
              "        document.querySelector('#' + key + ' button');\n",
              "      quickchartButtonEl.disabled = true;  // To prevent multiple clicks.\n",
              "      quickchartButtonEl.classList.add('colab-df-spinner');\n",
              "      try {\n",
              "        const charts = await google.colab.kernel.invokeFunction(\n",
              "            'suggestCharts', [key], {});\n",
              "      } catch (error) {\n",
              "        console.error('Error during call to suggestCharts:', error);\n",
              "      }\n",
              "      quickchartButtonEl.classList.remove('colab-df-spinner');\n",
              "      quickchartButtonEl.classList.add('colab-df-quickchart-complete');\n",
              "    }\n",
              "    (() => {\n",
              "      let quickchartButtonEl =\n",
              "        document.querySelector('#df-f2044bd4-e2d8-41d3-a2c6-9ef51d6d5868 button');\n",
              "      quickchartButtonEl.style.display =\n",
              "        google.colab.kernel.accessAllowed ? 'block' : 'none';\n",
              "    })();\n",
              "  </script>\n",
              "</div>\n",
              "\n",
              "    </div>\n",
              "  </div>\n"
            ],
            "application/vnd.google.colaboratory.intrinsic+json": {
              "type": "dataframe",
              "variable_name": "df"
            }
          },
          "metadata": {},
          "execution_count": 17
        }
      ]
    },
    {
      "cell_type": "markdown",
      "source": [
        "# **Visualize Correlation Matrix**"
      ],
      "metadata": {
        "id": "7nkyJw3Bx934"
      }
    },
    {
      "cell_type": "code",
      "source": [
        "sns.heatmap(df.corr())\n",
        "plt.show()"
      ],
      "metadata": {
        "colab": {
          "base_uri": "https://localhost:8080/",
          "height": 541
        },
        "id": "e5Sk5csoG8f2",
        "outputId": "a9cf5dfb-4c3f-49c5-b125-4987958a9297"
      },
      "execution_count": 18,
      "outputs": [
        {
          "output_type": "display_data",
          "data": {
            "text/plain": [
              "<Figure size 640x480 with 2 Axes>"
            ],
            "image/png": "[encoded data removed]"
          },
          "metadata": {}
        }
      ]
    },
    {
      "cell_type": "markdown",
      "source": [
        "# **Display Features with High Correlation**"
      ],
      "metadata": {
        "id": "SUpUdIt_yNOh"
      }
    },
    {
      "cell_type": "code",
      "source": [
        "columns = df.columns.tolist()\n",
        "corr = df.corr()\n",
        "correlated_vars = []\n",
        "for i in range(len(columns) - 1):\n",
        "    for j in range(i+1, len(columns)):\n",
        "        if corr[columns[i]][columns[j]] > 0.98:\n",
        "            print(columns[i], columns[j], corr[columns[i]][columns[j]])\n",
        "            correlated_vars.append(columns[j])"
      ],
      "metadata": {
        "colab": {
          "base_uri": "https://localhost:8080/"
        },
        "id": "J6YkKeUoHBkt",
        "outputId": "f43c6e3d-39bb-4e83-800e-c3e8d0e21e9e"
      },
      "execution_count": 19,
      "outputs": [
        {
          "output_type": "stream",
          "name": "stdout",
          "text": [
            "sbytes sloss 0.995771577240686\n",
            "dbytes dloss 0.9967111338314709\n",
            "swin dwin 0.9804584289136614\n",
            "is_ftp_login ct_ftp_cmd 0.9988554882935945\n"
          ]
        }
      ]
    },
    {
      "cell_type": "markdown",
      "source": [
        "# **Remove High Correlation Columns**"
      ],
      "metadata": {
        "id": "Tn7J12Mcy8lr"
      }
    },
    {
      "cell_type": "code",
      "source": [
        "df = df.drop(columns=correlated_vars)"
      ],
      "metadata": {
        "id": "0mzpsafTHF_C"
      },
      "execution_count": 20,
      "outputs": []
    },
    {
      "cell_type": "markdown",
      "source": [
        "# **Prepare Dataset**"
      ],
      "metadata": {
        "id": "DonmSqNQz7gx"
      }
    },
    {
      "cell_type": "code",
      "source": [
        "X = df.drop(columns=['label'])\n",
        "feature_list = list(X.columns)\n",
        "X = np.array(X)\n",
        "y = df['label']\n",
        "X_train, X_test, y_train, y_test = train_test_split(X, y, test_size = 0.3)"
      ],
      "metadata": {
        "id": "pLyeGJDjHKcR"
      },
      "execution_count": 21,
      "outputs": []
    },
    {
      "cell_type": "markdown",
      "source": [
        "# **Size of train test Dataset**"
      ],
      "metadata": {
        "id": "6IxT12CC0EAz"
      }
    },
    {
      "cell_type": "code",
      "source": [
        "print(\"Training set:\", len(X_train))\n",
        "print(\"Testing set:\", len(X_test))"
      ],
      "metadata": {
        "colab": {
          "base_uri": "https://localhost:8080/"
        },
        "id": "ZXNcCc43HPr_",
        "outputId": "dd6549dc-645c-4604-c9d1-9af38d7c7fcf"
      },
      "execution_count": 22,
      "outputs": [
        {
          "output_type": "stream",
          "name": "stdout",
          "text": [
            "Training set: 180371\n",
            "Testing set: 77302\n"
          ]
        }
      ]
    },
    {
      "cell_type": "markdown",
      "source": [
        "# **Standardize Values**"
      ],
      "metadata": {
        "id": "jftTgb_P0Qxw"
      }
    },
    {
      "cell_type": "code",
      "source": [
        "scaler = StandardScaler().fit(X_train)\n",
        "X_train = scaler.transform(X_train)\n",
        "X_test = scaler.transform(X_test)"
      ],
      "metadata": {
        "id": "lHwe_nweHUQu"
      },
      "execution_count": 23,
      "outputs": []
    },
    {
      "cell_type": "markdown",
      "source": [
        "# **Dictionary Models to store ML Models**"
      ],
      "metadata": {
        "id": "21k1TWtz02QI"
      }
    },
    {
      "cell_type": "code",
      "source": [
        "models = {}\n",
        "models['Decision Tree Classifier'] = DecisionTreeClassifier()\n",
        "models['Random Forest Classifier'] = RandomForestClassifier()\n",
        "models['Gaussian Naive Bayes'] = GaussianNB()"
      ],
      "metadata": {
        "id": "Sh1z71G5HZL2"
      },
      "execution_count": 24,
      "outputs": []
    },
    {
      "cell_type": "markdown",
      "source": [
        "# **Training Models**"
      ],
      "metadata": {
        "id": "GtOXVhW31Y2h"
      }
    },
    {
      "cell_type": "code",
      "source": [
        "train_score, accuracy, precision, recall, training_time, y_pred = {}, {}, {}, {}, {}, {}\n",
        "for key in models.keys():\n",
        "    start_time = time.time()\n",
        "    models[key].fit(X_train, y_train)\n",
        "    training_time[key] = time.time() - start_time\n",
        "\n",
        "    y_pred[key] = models[key].predict(X_test)\n",
        "\n",
        "    train_score[key] = models[key].score(X_train, y_train)\n",
        "    accuracy[key] = models[key].score(X_test, y_test)\n",
        "    precision[key] = precision_score(y_test, y_pred[key])\n",
        "    recall[key] = recall_score(y_test, y_pred[key])"
      ],
      "metadata": {
        "id": "GGgNnFzIHdFx"
      },
      "execution_count": 25,
      "outputs": []
    },
    {
      "cell_type": "markdown",
      "source": [
        "# **RFE with RFC for Feature Selection**"
      ],
      "metadata": {
        "id": "VNGEmn5D3Jix"
      }
    },
    {
      "cell_type": "code",
      "source": [
        "rfc_rfe = 'Random Forest Classifier + Recursive Feature Elimination'\n",
        "models[rfc_rfe] = RandomForestClassifier()\n",
        "rfe = RFE(models[rfc_rfe])\n",
        "start_time = time.time()\n",
        "rfe.fit(X_train, y_train)\n",
        "training_time[rfc_rfe] = time.time() - start_time\n",
        "\n",
        "X_train_rfe = rfe.transform(X_train)\n",
        "X_test_rfe = rfe.transform(X_test)\n",
        "\n",
        "start_time = time.time()\n",
        "models[rfc_rfe].fit(X_train_rfe, y_train)\n",
        "training_time[rfc_rfe] = training_time[rfc_rfe] + (time.time() - start_time)\n",
        "\n",
        "y_pred[key] = models[rfc_rfe].predict(X_test_rfe)\n",
        "\n",
        "train_score[rfc_rfe] = models[rfc_rfe].score(X_train_rfe, y_train)\n",
        "accuracy[rfc_rfe] = models[rfc_rfe].score(X_test_rfe, y_test)\n",
        "precision[rfc_rfe] = precision_score(y_test, y_pred[key])\n",
        "recall[rfc_rfe] = recall_score(y_test, y_pred[key])"
      ],
      "metadata": {
        "id": "wU1bytNOKLv4"
      },
      "execution_count": 31,
      "outputs": []
    },
    {
      "cell_type": "markdown",
      "source": [
        "# **Display Features before & after RFE**"
      ],
      "metadata": {
        "id": "FR9AengD36cf"
      }
    },
    {
      "cell_type": "code",
      "source": [
        "print(\"Old number of features:\", X.shape[1])\n",
        "print(\"New number of features:\", len(rfe.estimator_.feature_importances_))"
      ],
      "metadata": {
        "colab": {
          "base_uri": "https://localhost:8080/"
        },
        "id": "xkj9VOJxT17Z",
        "outputId": "746932fd-8fa8-49e1-a5ed-66994b68e8c2"
      },
      "execution_count": 32,
      "outputs": [
        {
          "output_type": "stream",
          "name": "stdout",
          "text": [
            "Old number of features: 38\n",
            "New number of features: 19\n"
          ]
        }
      ]
    },
    {
      "cell_type": "markdown",
      "source": [
        "# **Display Keys from Dictionaries**"
      ],
      "metadata": {
        "id": "jQOGYqal4J8w"
      }
    },
    {
      "cell_type": "code",
      "source": [
        "print(\"Models:\", models.keys())\n",
        "print(\"Training scores:\", train_score.keys())\n",
        "print(\"Accuracy:\", accuracy.keys())\n",
        "print(\"Precision:\", precision.keys())\n",
        "print(\"Recall:\", recall.keys())\n",
        "print(\"Training time:\", training_time.keys())\n"
      ],
      "metadata": {
        "colab": {
          "base_uri": "https://localhost:8080/"
        },
        "id": "wq_WUrpST69q",
        "outputId": "0bb355d5-9b17-4292-96fb-fd90eaaae748"
      },
      "execution_count": 35,
      "outputs": [
        {
          "output_type": "stream",
          "name": "stdout",
          "text": [
            "Models: dict_keys(['Decision Tree Classifier', 'Random Forest Classifier', 'Gaussian Naive Bayes', 'Random Forest Classifier + Recursive Feature Elimination', 'Random Forest Classifier + Recursive Feature Elimination with Cross-Validation'])\n",
            "Training scores: dict_keys(['Decision Tree Classifier', 'Random Forest Classifier', 'Gaussian Naive Bayes', 'Random Forest Classifier + Recursive Feature Elimination'])\n",
            "Accuracy: dict_keys(['Decision Tree Classifier', 'Random Forest Classifier', 'Gaussian Naive Bayes', 'Random Forest Classifier + Recursive Feature Elimination'])\n",
            "Precision: dict_keys(['Decision Tree Classifier', 'Random Forest Classifier', 'Gaussian Naive Bayes', 'Random Forest Classifier + Recursive Feature Elimination'])\n",
            "Recall: dict_keys(['Decision Tree Classifier', 'Random Forest Classifier', 'Gaussian Naive Bayes', 'Random Forest Classifier + Recursive Feature Elimination'])\n",
            "Training time: dict_keys(['Decision Tree Classifier', 'Random Forest Classifier', 'Gaussian Naive Bayes', 'Random Forest Classifier + Recursive Feature Elimination'])\n"
          ]
        }
      ]
    },
    {
      "cell_type": "markdown",
      "source": [
        "# **Display all Models ,Df containing all Metrics**"
      ],
      "metadata": {
        "id": "-Tvs1vS14sh4"
      }
    },
    {
      "cell_type": "code",
      "source": [
        "\n",
        "models_keys = models.keys()\n",
        "\n",
        "train_score = {key: train_score.get(key, np.nan) for key in models_keys}\n",
        "accuracy = {key: accuracy.get(key, np.nan) for key in models_keys}\n",
        "precision = {key: precision.get(key, np.nan) for key in models_keys}\n",
        "recall = {key: recall.get(key, np.nan) for key in models_keys}\n",
        "training_time = {key: training_time.get(key, np.nan) for key in models_keys}\n",
        "\n",
        "df_models = pd.DataFrame(index=models_keys, columns=['Training score', 'Accuracy', 'Precision', 'Recall', 'Training time'])\n",
        "\n",
        "df_models['Training score'] = list(train_score.values())\n",
        "df_models['Accuracy'] = list(accuracy.values())\n",
        "df_models['Precision'] = list(precision.values())\n",
        "df_models['Recall'] = list(recall.values())\n",
        "df_models['Training time'] = list(training_time.values())\n",
        "\n",
        "print(df_models)\n"
      ],
      "metadata": {
        "colab": {
          "base_uri": "https://localhost:8080/"
        },
        "id": "lKDaQs0bUqx9",
        "outputId": "369c3fdf-b004-4efd-a447-2801bb836f03"
      },
      "execution_count": 36,
      "outputs": [
        {
          "output_type": "stream",
          "name": "stdout",
          "text": [
            "                                                    Training score  Accuracy  \\\n",
            "Decision Tree Classifier                                  0.997755  0.936923   \n",
            "Random Forest Classifier                                  0.997755  0.950803   \n",
            "Gaussian Naive Bayes                                      0.834452  0.834946   \n",
            "Random Forest Classifier + Recursive Feature El...        0.995282  0.947647   \n",
            "Random Forest Classifier + Recursive Feature El...             NaN       NaN   \n",
            "\n",
            "                                                    Precision    Recall  \\\n",
            "Decision Tree Classifier                             0.952346  0.948840   \n",
            "Random Forest Classifier                             0.963814  0.959076   \n",
            "Gaussian Naive Bayes                                 0.837972  0.919730   \n",
            "Random Forest Classifier + Recursive Feature El...   0.959242  0.958874   \n",
            "Random Forest Classifier + Recursive Feature El...        NaN       NaN   \n",
            "\n",
            "                                                    Training time  \n",
            "Decision Tree Classifier                                 3.770778  \n",
            "Random Forest Classifier                                52.439611  \n",
            "Gaussian Naive Bayes                                     0.151443  \n",
            "Random Forest Classifier + Recursive Feature El...    1119.612646  \n",
            "Random Forest Classifier + Recursive Feature El...            NaN  \n"
          ]
        }
      ]
    },
    {
      "cell_type": "markdown",
      "source": [
        "# **Performance metrics of all ML Models**"
      ],
      "metadata": {
        "id": "j_ojbYp75F61"
      }
    },
    {
      "cell_type": "code",
      "source": [
        "df_models = pd.DataFrame(index=models.keys(), columns=['Training score', 'Accuracy', 'Precision', 'Recall', 'Training time'])\n",
        "df_models['Training score'] = train_score.values()\n",
        "df_models['Accuracy'] = accuracy.values()\n",
        "df_models['Precision'] = precision.values()\n",
        "df_models['Recall'] = recall.values()\n",
        "df_models['Training time'] = training_time.values()"
      ],
      "metadata": {
        "id": "z_S9bPcBU7b1"
      },
      "execution_count": 37,
      "outputs": []
    },
    {
      "cell_type": "markdown",
      "source": [
        "# **Summary of Performance Metrics**"
      ],
      "metadata": {
        "id": "frOXE3oT5diY"
      }
    },
    {
      "cell_type": "code",
      "source": [
        "df_models"
      ],
      "metadata": {
        "colab": {
          "base_uri": "https://localhost:8080/",
          "height": 206
        },
        "id": "RgpssPpGVFvL",
        "outputId": "2b49dfce-87fb-47d1-8e41-d006853b8c55"
      },
      "execution_count": 38,
      "outputs": [
        {
          "output_type": "execute_result",
          "data": {
            "text/plain": [
              "                                                    Training score  Accuracy  \\\n",
              "Decision Tree Classifier                                  0.997755  0.936923   \n",
              "Random Forest Classifier                                  0.997755  0.950803   \n",
              "Gaussian Naive Bayes                                      0.834452  0.834946   \n",
              "Random Forest Classifier + Recursive Feature El...        0.995282  0.947647   \n",
              "Random Forest Classifier + Recursive Feature El...             NaN       NaN   \n",
              "\n",
              "                                                    Precision    Recall  \\\n",
              "Decision Tree Classifier                             0.952346  0.948840   \n",
              "Random Forest Classifier                             0.963814  0.959076   \n",
              "Gaussian Naive Bayes                                 0.837972  0.919730   \n",
              "Random Forest Classifier + Recursive Feature El...   0.959242  0.958874   \n",
              "Random Forest Classifier + Recursive Feature El...        NaN       NaN   \n",
              "\n",
              "                                                    Training time  \n",
              "Decision Tree Classifier                                 3.770778  \n",
              "Random Forest Classifier                                52.439611  \n",
              "Gaussian Naive Bayes                                     0.151443  \n",
              "Random Forest Classifier + Recursive Feature El...    1119.612646  \n",
              "Random Forest Classifier + Recursive Feature El...            NaN  "
            ],
            "text/html": [
              "\n",
              "  <div id=\"df-c0f54787-4978-4c64-8fd5-4002eb292f38\" class=\"colab-df-container\">\n",
              "    <div>\n",
              "<style scoped>\n",
              "    .dataframe tbody tr th:only-of-type {\n",
              "        vertical-align: middle;\n",
              "    }\n",
              "\n",
              "    .dataframe tbody tr th {\n",
              "        vertical-align: top;\n",
              "    }\n",
              "\n",
              "    .dataframe thead th {\n",
              "        text-align: right;\n",
              "    }\n",
              "</style>\n",
              "<table border=\"1\" class=\"dataframe\">\n",
              "  <thead>\n",
              "    <tr style=\"text-align: right;\">\n",
              "      <th></th>\n",
              "      <th>Training score</th>\n",
              "      <th>Accuracy</th>\n",
              "      <th>Precision</th>\n",
              "      <th>Recall</th>\n",
              "      <th>Training time</th>\n",
              "    </tr>\n",
              "  </thead>\n",
              "  <tbody>\n",
              "    <tr>\n",
              "      <th>Decision Tree Classifier</th>\n",
              "      <td>0.997755</td>\n",
              "      <td>0.936923</td>\n",
              "      <td>0.952346</td>\n",
              "      <td>0.948840</td>\n",
              "      <td>3.770778</td>\n",
              "    </tr>\n",
              "    <tr>\n",
              "      <th>Random Forest Classifier</th>\n",
              "      <td>0.997755</td>\n",
              "      <td>0.950803</td>\n",
              "      <td>0.963814</td>\n",
              "      <td>0.959076</td>\n",
              "      <td>52.439611</td>\n",
              "    </tr>\n",
              "    <tr>\n",
              "      <th>Gaussian Naive Bayes</th>\n",
              "      <td>0.834452</td>\n",
              "      <td>0.834946</td>\n",
              "      <td>0.837972</td>\n",
              "      <td>0.919730</td>\n",
              "      <td>0.151443</td>\n",
              "    </tr>\n",
              "    <tr>\n",
              "      <th>Random Forest Classifier + Recursive Feature Elimination</th>\n",
              "      <td>0.995282</td>\n",
              "      <td>0.947647</td>\n",
              "      <td>0.959242</td>\n",
              "      <td>0.958874</td>\n",
              "      <td>1119.612646</td>\n",
              "    </tr>\n",
              "    <tr>\n",
              "      <th>Random Forest Classifier + Recursive Feature Elimination with Cross-Validation</th>\n",
              "      <td>NaN</td>\n",
              "      <td>NaN</td>\n",
              "      <td>NaN</td>\n",
              "      <td>NaN</td>\n",
              "      <td>NaN</td>\n",
              "    </tr>\n",
              "  </tbody>\n",
              "</table>\n",
              "</div>\n",
              "    <div class=\"colab-df-buttons\">\n",
              "\n",
              "  <div class=\"colab-df-container\">\n",
              "    <button class=\"colab-df-convert\" onclick=\"convertToInteractive('df-c0f54787-4978-4c64-8fd5-4002eb292f38')\"\n",
              "            title=\"Convert this dataframe to an interactive table.\"\n",
              "            style=\"display:none;\">\n",
              "\n",
              "  <svg xmlns=\"http://www.w3.org/2000/svg\" height=\"24px\" viewBox=\"0 -960 960 960\">\n",
              "    <path d=\"M120-120v-720h720v720H120Zm60-500h600v-160H180v160Zm220 220h160v-160H400v160Zm0 220h160v-160H400v160ZM180-400h160v-160H180v160Zm440 0h160v-160H620v160ZM180-180h160v-160H180v160Zm440 0h160v-160H620v160Z\"/>\n",
              "  </svg>\n",
              "    </button>\n",
              "\n",
              "  <style>\n",
              "    .colab-df-container {\n",
              "      display:flex;\n",
              "      gap: 12px;\n",
              "    }\n",
              "\n",
              "    .colab-df-convert {\n",
              "      background-color: #E8F0FE;\n",
              "      border: none;\n",
              "      border-radius: 50%;\n",
              "      cursor: pointer;\n",
              "      display: none;\n",
              "      fill: #1967D2;\n",
              "      height: 32px;\n",
              "      padding: 0 0 0 0;\n",
              "      width: 32px;\n",
              "    }\n",
              "\n",
              "    .colab-df-convert:hover {\n",
              "      background-color: #E2EBFA;\n",
              "      box-shadow: 0px 1px 2px rgba(60, 64, 67, 0.3), 0px 1px 3px 1px rgba(60, 64, 67, 0.15);\n",
              "      fill: #174EA6;\n",
              "    }\n",
              "\n",
              "    .colab-df-buttons div {\n",
              "      margin-bottom: 4px;\n",
              "    }\n",
              "\n",
              "    [theme=dark] .colab-df-convert {\n",
              "      background-color: #3B4455;\n",
              "      fill: #D2E3FC;\n",
              "    }\n",
              "\n",
              "    [theme=dark] .colab-df-convert:hover {\n",
              "      background-color: #434B5C;\n",
              "      box-shadow: 0px 1px 3px 1px rgba(0, 0, 0, 0.15);\n",
              "      filter: drop-shadow(0px 1px 2px rgba(0, 0, 0, 0.3));\n",
              "      fill: #FFFFFF;\n",
              "    }\n",
              "  </style>\n",
              "\n",
              "    <script>\n",
              "      const buttonEl =\n",
              "        document.querySelector('#df-c0f54787-4978-4c64-8fd5-4002eb292f38 button.colab-df-convert');\n",
              "      buttonEl.style.display =\n",
              "        google.colab.kernel.accessAllowed ? 'block' : 'none';\n",
              "\n",
              "      async function convertToInteractive(key) {\n",
              "        const element = document.querySelector('#df-c0f54787-4978-4c64-8fd5-4002eb292f38');\n",
              "        const dataTable =\n",
              "          await google.colab.kernel.invokeFunction('convertToInteractive',\n",
              "                                                    [key], {});\n",
              "        if (!dataTable) return;\n",
              "\n",
              "        const docLinkHtml = 'Like what you see? Visit the ' +\n",
              "          '<a target=\"_blank\" href=https://colab.research.google.com/notebooks/data_table.ipynb>data table notebook</a>'\n",
              "          + ' to learn more about interactive tables.';\n",
              "        element.innerHTML = '';\n",
              "        dataTable['output_type'] = 'display_data';\n",
              "        await google.colab.output.renderOutput(dataTable, element);\n",
              "        const docLink = document.createElement('div');\n",
              "        docLink.innerHTML = docLinkHtml;\n",
              "        element.appendChild(docLink);\n",
              "      }\n",
              "    </script>\n",
              "  </div>\n",
              "\n",
              "\n",
              "<div id=\"df-c3482ca9-143a-4c50-a933-175ea6de8661\">\n",
              "  <button class=\"colab-df-quickchart\" onclick=\"quickchart('df-c3482ca9-143a-4c50-a933-175ea6de8661')\"\n",
              "            title=\"Suggest charts\"\n",
              "            style=\"display:none;\">\n",
              "\n",
              "<svg xmlns=\"http://www.w3.org/2000/svg\" height=\"24px\"viewBox=\"0 0 24 24\"\n",
              "     width=\"24px\">\n",
              "    <g>\n",
              "        <path d=\"M19 3H5c-1.1 0-2 .9-2 2v14c0 1.1.9 2 2 2h14c1.1 0 2-.9 2-2V5c0-1.1-.9-2-2-2zM9 17H7v-7h2v7zm4 0h-2V7h2v10zm4 0h-2v-4h2v4z\"/>\n",
              "    </g>\n",
              "</svg>\n",
              "  </button>\n",
              "\n",
              "<style>\n",
              "  .colab-df-quickchart {\n",
              "      --bg-color: #E8F0FE;\n",
              "      --fill-color: #1967D2;\n",
              "      --hover-bg-color: #E2EBFA;\n",
              "      --hover-fill-color: #174EA6;\n",
              "      --disabled-fill-color: #AAA;\n",
              "      --disabled-bg-color: #DDD;\n",
              "  }\n",
              "\n",
              "  [theme=dark] .colab-df-quickchart {\n",
              "      --bg-color: #3B4455;\n",
              "      --fill-color: #D2E3FC;\n",
              "      --hover-bg-color: #434B5C;\n",
              "      --hover-fill-color: #FFFFFF;\n",
              "      --disabled-bg-color: #3B4455;\n",
              "      --disabled-fill-color: #666;\n",
              "  }\n",
              "\n",
              "  .colab-df-quickchart {\n",
              "    background-color: var(--bg-color);\n",
              "    border: none;\n",
              "    border-radius: 50%;\n",
              "    cursor: pointer;\n",
              "    display: none;\n",
              "    fill: var(--fill-color);\n",
              "    height: 32px;\n",
              "    padding: 0;\n",
              "    width: 32px;\n",
              "  }\n",
              "\n",
              "  .colab-df-quickchart:hover {\n",
              "    background-color: var(--hover-bg-color);\n",
              "    box-shadow: 0 1px 2px rgba(60, 64, 67, 0.3), 0 1px 3px 1px rgba(60, 64, 67, 0.15);\n",
              "    fill: var(--button-hover-fill-color);\n",
              "  }\n",
              "\n",
              "  .colab-df-quickchart-complete:disabled,\n",
              "  .colab-df-quickchart-complete:disabled:hover {\n",
              "    background-color: var(--disabled-bg-color);\n",
              "    fill: var(--disabled-fill-color);\n",
              "    box-shadow: none;\n",
              "  }\n",
              "\n",
              "  .colab-df-spinner {\n",
              "    border: 2px solid var(--fill-color);\n",
              "    border-color: transparent;\n",
              "    border-bottom-color: var(--fill-color);\n",
              "    animation:\n",
              "      spin 1s steps(1) infinite;\n",
              "  }\n",
              "\n",
              "  @keyframes spin {\n",
              "    0% {\n",
              "      border-color: transparent;\n",
              "      border-bottom-color: var(--fill-color);\n",
              "      border-left-color: var(--fill-color);\n",
              "    }\n",
              "    20% {\n",
              "      border-color: transparent;\n",
              "      border-left-color: var(--fill-color);\n",
              "      border-top-color: var(--fill-color);\n",
              "    }\n",
              "    30% {\n",
              "      border-color: transparent;\n",
              "      border-left-color: var(--fill-color);\n",
              "      border-top-color: var(--fill-color);\n",
              "      border-right-color: var(--fill-color);\n",
              "    }\n",
              "    40% {\n",
              "      border-color: transparent;\n",
              "      border-right-color: var(--fill-color);\n",
              "      border-top-color: var(--fill-color);\n",
              "    }\n",
              "    60% {\n",
              "      border-color: transparent;\n",
              "      border-right-color: var(--fill-color);\n",
              "    }\n",
              "    80% {\n",
              "      border-color: transparent;\n",
              "      border-right-color: var(--fill-color);\n",
              "      border-bottom-color: var(--fill-color);\n",
              "    }\n",
              "    90% {\n",
              "      border-color: transparent;\n",
              "      border-bottom-color: var(--fill-color);\n",
              "    }\n",
              "  }\n",
              "</style>\n",
              "\n",
              "  <script>\n",
              "    async function quickchart(key) {\n",
              "      const quickchartButtonEl =\n",
              "        document.querySelector('#' + key + ' button');\n",
              "      quickchartButtonEl.disabled = true;  // To prevent multiple clicks.\n",
              "      quickchartButtonEl.classList.add('colab-df-spinner');\n",
              "      try {\n",
              "        const charts = await google.colab.kernel.invokeFunction(\n",
              "            'suggestCharts', [key], {});\n",
              "      } catch (error) {\n",
              "        console.error('Error during call to suggestCharts:', error);\n",
              "      }\n",
              "      quickchartButtonEl.classList.remove('colab-df-spinner');\n",
              "      quickchartButtonEl.classList.add('colab-df-quickchart-complete');\n",
              "    }\n",
              "    (() => {\n",
              "      let quickchartButtonEl =\n",
              "        document.querySelector('#df-c3482ca9-143a-4c50-a933-175ea6de8661 button');\n",
              "      quickchartButtonEl.style.display =\n",
              "        google.colab.kernel.accessAllowed ? 'block' : 'none';\n",
              "    })();\n",
              "  </script>\n",
              "</div>\n",
              "\n",
              "  <div id=\"id_08a2c2e3-b1ac-428a-a887-581258e45c31\">\n",
              "    <style>\n",
              "      .colab-df-generate {\n",
              "        background-color: #E8F0FE;\n",
              "        border: none;\n",
              "        border-radius: 50%;\n",
              "        cursor: pointer;\n",
              "        display: none;\n",
              "        fill: #1967D2;\n",
              "        height: 32px;\n",
              "        padding: 0 0 0 0;\n",
              "        width: 32px;\n",
              "      }\n",
              "\n",
              "      .colab-df-generate:hover {\n",
              "        background-color: #E2EBFA;\n",
              "        box-shadow: 0px 1px 2px rgba(60, 64, 67, 0.3), 0px 1px 3px 1px rgba(60, 64, 67, 0.15);\n",
              "        fill: #174EA6;\n",
              "      }\n",
              "\n",
              "      [theme=dark] .colab-df-generate {\n",
              "        background-color: #3B4455;\n",
              "        fill: #D2E3FC;\n",
              "      }\n",
              "\n",
              "      [theme=dark] .colab-df-generate:hover {\n",
              "        background-color: #434B5C;\n",
              "        box-shadow: 0px 1px 3px 1px rgba(0, 0, 0, 0.15);\n",
              "        filter: drop-shadow(0px 1px 2px rgba(0, 0, 0, 0.3));\n",
              "        fill: #FFFFFF;\n",
              "      }\n",
              "    </style>\n",
              "    <button class=\"colab-df-generate\" onclick=\"generateWithVariable('df_models')\"\n",
              "            title=\"Generate code using this dataframe.\"\n",
              "            style=\"display:none;\">\n",
              "\n",
              "  <svg xmlns=\"http://www.w3.org/2000/svg\" height=\"24px\"viewBox=\"0 0 24 24\"\n",
              "       width=\"24px\">\n",
              "    <path d=\"M7,19H8.4L18.45,9,17,7.55,7,17.6ZM5,21V16.75L18.45,3.32a2,2,0,0,1,2.83,0l1.4,1.43a1.91,1.91,0,0,1,.58,1.4,1.91,1.91,0,0,1-.58,1.4L9.25,21ZM18.45,9,17,7.55Zm-12,3A5.31,5.31,0,0,0,4.9,8.1,5.31,5.31,0,0,0,1,6.5,5.31,5.31,0,0,0,4.9,4.9,5.31,5.31,0,0,0,6.5,1,5.31,5.31,0,0,0,8.1,4.9,5.31,5.31,0,0,0,12,6.5,5.46,5.46,0,0,0,6.5,12Z\"/>\n",
              "  </svg>\n",
              "    </button>\n",
              "    <script>\n",
              "      (() => {\n",
              "      const buttonEl =\n",
              "        document.querySelector('#id_08a2c2e3-b1ac-428a-a887-581258e45c31 button.colab-df-generate');\n",
              "      buttonEl.style.display =\n",
              "        google.colab.kernel.accessAllowed ? 'block' : 'none';\n",
              "\n",
              "      buttonEl.onclick = () => {\n",
              "        google.colab.notebook.generateWithVariable('df_models');\n",
              "      }\n",
              "      })();\n",
              "    </script>\n",
              "  </div>\n",
              "\n",
              "    </div>\n",
              "  </div>\n"
            ],
            "application/vnd.google.colaboratory.intrinsic+json": {
              "type": "dataframe",
              "variable_name": "df_models",
              "summary": "{\n  \"name\": \"df_models\",\n  \"rows\": 5,\n  \"fields\": [\n    {\n      \"column\": \"Training score\",\n      \"properties\": {\n        \"dtype\": \"number\",\n        \"std\": 0.08124740072841896,\n        \"min\": 0.834452323267044,\n        \"max\": 0.9977546279612576,\n        \"num_unique_values\": 3,\n        \"samples\": [\n          0.9977546279612576,\n          0.834452323267044,\n          0.9952819466543956\n        ],\n        \"semantic_type\": \"\",\n        \"description\": \"\"\n      }\n    },\n    {\n      \"column\": \"Accuracy\",\n      \"properties\": {\n        \"dtype\": \"number\",\n        \"std\": 0.05540853716810269,\n        \"min\": 0.8349460557294766,\n        \"max\": 0.9508033427336938,\n        \"num_unique_values\": 4,\n        \"samples\": [\n          0.9508033427336938,\n          0.9476468914129,\n          0.9369227186877441\n        ],\n        \"semantic_type\": \"\",\n        \"description\": \"\"\n      }\n    },\n    {\n      \"column\": \"Precision\",\n      \"properties\": {\n        \"dtype\": \"number\",\n        \"std\": 0.060431896895074444,\n        \"min\": 0.8379718372161604,\n        \"max\": 0.9638137832892865,\n        \"num_unique_values\": 4,\n        \"samples\": [\n          0.9638137832892865,\n          0.9592423199902862,\n          0.9523461452559339\n        ],\n        \"semantic_type\": \"\",\n        \"description\": \"\"\n      }\n    },\n    {\n      \"column\": \"Recall\",\n      \"properties\": {\n        \"dtype\": \"number\",\n        \"std\": 0.018559049944613434,\n        \"min\": 0.9197297351971355,\n        \"max\": 0.9590759209434992,\n        \"num_unique_values\": 4,\n        \"samples\": [\n          0.9590759209434992,\n          0.9588736269293792,\n          0.9488398438290211\n        ],\n        \"semantic_type\": \"\",\n        \"description\": \"\"\n      }\n    },\n    {\n      \"column\": \"Training time\",\n      \"properties\": {\n        \"dtype\": \"number\",\n        \"std\": 550.9288033944497,\n        \"min\": 0.1514430046081543,\n        \"max\": 1119.6126463413239,\n        \"num_unique_values\": 4,\n        \"samples\": [\n          52.439610719680786,\n          1119.6126463413239,\n          3.770777702331543\n        ],\n        \"semantic_type\": \"\",\n        \"description\": \"\"\n      }\n    }\n  ]\n}"
            }
          },
          "metadata": {},
          "execution_count": 38
        }
      ]
    },
    {
      "cell_type": "markdown",
      "source": [
        "# **Display ROC Curve**"
      ],
      "metadata": {
        "id": "QS3JNopA5s8n"
      }
    },
    {
      "cell_type": "code",
      "source": [
        "display = RocCurveDisplay.from_estimator(models['Random Forest Classifier'], X_test, y_test)\n",
        "plt.show()"
      ],
      "metadata": {
        "colab": {
          "base_uri": "https://localhost:8080/",
          "height": 451
        },
        "id": "-GMA_PI-VJtC",
        "outputId": "9619b779-284e-47ac-db0b-87adf9d60a5b"
      },
      "execution_count": 39,
      "outputs": [
        {
          "output_type": "display_data",
          "data": {
            "text/plain": [
              "<Figure size 640x480 with 1 Axes>"
            ],
            "image/png": "[encoded data removed]"
          },
          "metadata": {}
        }
      ]
    },
    {
      "cell_type": "markdown",
      "source": [
        "# **Display Precision-Recall Curve**"
      ],
      "metadata": {
        "id": "pB3gIO8J56qj"
      }
    },
    {
      "cell_type": "code",
      "source": [
        "display = PrecisionRecallDisplay.from_predictions(y_test, y_pred['Random Forest Classifier'])"
      ],
      "metadata": {
        "colab": {
          "base_uri": "https://localhost:8080/",
          "height": 451
        },
        "id": "SLiFc1g9VOCU",
        "outputId": "77bc90c6-4109-4c44-de6c-03001c5cb5a0"
      },
      "execution_count": 40,
      "outputs": [
        {
          "output_type": "display_data",
          "data": {
            "text/plain": [
              "<Figure size 640x480 with 1 Axes>"
            ],
            "image/png": "[encoded data removed]"
          },
          "metadata": {}
        }
      ]
    },
    {
      "cell_type": "markdown",
      "source": [
        "# **Visualize Confusion Matrix by RFC**"
      ],
      "metadata": {
        "id": "1c9CiGiB6FZn"
      }
    },
    {
      "cell_type": "code",
      "source": [
        "cm = confusion_matrix(y_test, y_pred['Random Forest Classifier'], labels=models['Random Forest Classifier'].classes_)\n",
        "disp = ConfusionMatrixDisplay(confusion_matrix=cm, display_labels=models['Random Forest Classifier'].classes_)\n",
        "disp.plot(cmap='Blues')\n",
        "plt.show()"
      ],
      "metadata": {
        "colab": {
          "base_uri": "https://localhost:8080/",
          "height": 449
        },
        "id": "Fp6ZkdkbVSpN",
        "outputId": "668e9d66-110d-4e6c-ee22-0caced53e69d"
      },
      "execution_count": 41,
      "outputs": [
        {
          "output_type": "display_data",
          "data": {
            "text/plain": [
              "<Figure size 640x480 with 2 Axes>"
            ],
            "image/png": "[encoded data removed]"
          },
          "metadata": {}
        }
      ]
    },
    {
      "cell_type": "code",
      "source": [],
      "metadata": {
        "id": "s6MKtFsAVX_T"
      },
      "execution_count": null,
      "outputs": []
    }
  ]
}